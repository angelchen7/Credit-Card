{
 "cells": [
  {
   "cell_type": "code",
   "execution_count": 1,
   "metadata": {},
   "outputs": [],
   "source": [
    "from pyspark.sql import SparkSession\n",
    "spark= SparkSession.builder.getOrCreate()"
   ]
  },
  {
   "cell_type": "markdown",
   "metadata": {},
   "source": [
    "# Importing the data"
   ]
  },
  {
   "cell_type": "code",
   "execution_count": 2,
   "metadata": {},
   "outputs": [],
   "source": [
    "# reading in the data\n",
    "infile = 'default.csv'\n",
    "df = spark.read.csv(infile, inferSchema=True, header = True)"
   ]
  },
  {
   "cell_type": "code",
   "execution_count": 3,
   "metadata": {},
   "outputs": [
    {
     "name": "stdout",
     "output_type": "stream",
     "text": [
      "root\n",
      " |-- ID: integer (nullable = true)\n",
      " |-- LIMIT_BAL: integer (nullable = true)\n",
      " |-- SEX: integer (nullable = true)\n",
      " |-- EDUCATION: integer (nullable = true)\n",
      " |-- MARRIAGE: integer (nullable = true)\n",
      " |-- AGE: integer (nullable = true)\n",
      " |-- PAY_0: integer (nullable = true)\n",
      " |-- PAY_2: integer (nullable = true)\n",
      " |-- PAY_3: integer (nullable = true)\n",
      " |-- PAY_4: integer (nullable = true)\n",
      " |-- PAY_5: integer (nullable = true)\n",
      " |-- PAY_6: integer (nullable = true)\n",
      " |-- BILL_AMT1: integer (nullable = true)\n",
      " |-- BILL_AMT2: integer (nullable = true)\n",
      " |-- BILL_AMT3: integer (nullable = true)\n",
      " |-- BILL_AMT4: integer (nullable = true)\n",
      " |-- BILL_AMT5: integer (nullable = true)\n",
      " |-- BILL_AMT6: integer (nullable = true)\n",
      " |-- PAY_AMT1: integer (nullable = true)\n",
      " |-- PAY_AMT2: integer (nullable = true)\n",
      " |-- PAY_AMT3: integer (nullable = true)\n",
      " |-- PAY_AMT4: integer (nullable = true)\n",
      " |-- PAY_AMT5: integer (nullable = true)\n",
      " |-- PAY_AMT6: integer (nullable = true)\n",
      " |-- default payment next month: integer (nullable = true)\n",
      "\n"
     ]
    }
   ],
   "source": [
    "df.printSchema()"
   ]
  },
  {
   "cell_type": "markdown",
   "metadata": {},
   "source": [
    "## Data Preprocessing"
   ]
  },
  {
   "cell_type": "code",
   "execution_count": 4,
   "metadata": {},
   "outputs": [
    {
     "name": "stdout",
     "output_type": "stream",
     "text": [
      "(30000, 25)\n"
     ]
    }
   ],
   "source": [
    "# check the size of the data: 30000 rows and 25 columns\n",
    "print((df.count(), len(df.columns)))"
   ]
  },
  {
   "cell_type": "code",
   "execution_count": 5,
   "metadata": {},
   "outputs": [
    {
     "name": "stdout",
     "output_type": "stream",
     "text": [
      "rows=30000\n",
      "rows=30000\n"
     ]
    }
   ],
   "source": [
    "from pyspark.sql import functions as F\n",
    "\n",
    "# checking for duplicates in our dataset, there are no duplicates since there are in total, 30000 rows\n",
    "print('rows={}'.format(df.count()))\n",
    "print('rows={}'.format(df.distinct().count()))"
   ]
  },
  {
   "cell_type": "code",
   "execution_count": 6,
   "metadata": {},
   "outputs": [
    {
     "name": "stdout",
     "output_type": "stream",
     "text": [
      "+-------+--------------+--------+--------------+-------------+--------+----------+----------+----------+----------+----------+----------+--------------+--------------+--------------+--------------+--------------+--------------+-------------+-------------+-------------+-------------+-------------+-------------+-------------------------------+\n",
      "|ID_miss|LIMIT_BAL_miss|SEX_miss|EDUCATION_miss|MARRIAGE_miss|AGE_miss|PAY_0_miss|PAY_2_miss|PAY_3_miss|PAY_4_miss|PAY_5_miss|PAY_6_miss|BILL_AMT1_miss|BILL_AMT2_miss|BILL_AMT3_miss|BILL_AMT4_miss|BILL_AMT5_miss|BILL_AMT6_miss|PAY_AMT1_miss|PAY_AMT2_miss|PAY_AMT3_miss|PAY_AMT4_miss|PAY_AMT5_miss|PAY_AMT6_miss|default payment next month_miss|\n",
      "+-------+--------------+--------+--------------+-------------+--------+----------+----------+----------+----------+----------+----------+--------------+--------------+--------------+--------------+--------------+--------------+-------------+-------------+-------------+-------------+-------------+-------------+-------------------------------+\n",
      "|    0.0|           0.0|     0.0|           0.0|          0.0|     0.0|       0.0|       0.0|       0.0|       0.0|       0.0|       0.0|           0.0|           0.0|           0.0|           0.0|           0.0|           0.0|          0.0|          0.0|          0.0|          0.0|          0.0|          0.0|                            0.0|\n",
      "+-------+--------------+--------+--------------+-------------+--------+----------+----------+----------+----------+----------+----------+--------------+--------------+--------------+--------------+--------------+--------------+-------------+-------------+-------------+-------------+-------------+-------------+-------------------------------+\n",
      "\n"
     ]
    }
   ],
   "source": [
    "# checking for missing data, there are no missing data\n",
    "df.agg(*[\n",
    "    (1 - F.count(c) / F.count('*')).alias(c + '_miss')\n",
    "    for c in df.columns\n",
    "]).show()"
   ]
  },
  {
   "cell_type": "code",
   "execution_count": 7,
   "metadata": {},
   "outputs": [
    {
     "data": {
      "text/plain": [
       "{'LIMIT_BAL': [-180000.0, 460000.0],\n",
       " 'AGE': [10.0, 58.0],\n",
       " 'PAY_0': [-2.5, 1.5],\n",
       " 'PAY_2': [-2.5, 1.5],\n",
       " 'PAY_3': [-2.5, 1.5],\n",
       " 'PAY_4': [-2.5, 1.5],\n",
       " 'PAY_5': [-2.5, 1.5],\n",
       " 'PAY_6': [-2.5, 1.5],\n",
       " 'BILL_AMT1': [-75367.0, 136417.0],\n",
       " 'BILL_AMT2': [-71850.0, 129038.0],\n",
       " 'BILL_AMT3': [-68126.5, 122125.5],\n",
       " 'BILL_AMT4': [-65346.5, 116137.5],\n",
       " 'BILL_AMT5': [-61606.5, 108317.5],\n",
       " 'BILL_AMT6': [-60093.0, 104155.0],\n",
       " 'PAY_AMT1': [-4478.0, 10138.0],\n",
       " 'PAY_AMT2': [-4118.0, 9530.0],\n",
       " 'PAY_AMT3': [-4738.5, 9217.5],\n",
       " 'PAY_AMT4': [-4410.0, 8246.0],\n",
       " 'PAY_AMT5': [-4437.5, 8262.5],\n",
       " 'PAY_AMT6': [-4697.5, 8418.5]}"
      ]
     },
     "execution_count": 7,
     "metadata": {},
     "output_type": "execute_result"
    }
   ],
   "source": [
    "# checking for outliers\n",
    "\n",
    "# excluding features with levels and the response variable\n",
    "cols = [c for c in df.columns if c != 'ID' and c != 'default payment next month' and c!= 'SEX' and c != 'EDUCATION' and c!= 'MARRIAGE'] \n",
    "bnds = {} # storing the lower and upper bounds for each feature\n",
    "for col in cols:\n",
    "    quantiles = df.approxQuantile(col, [0.25, 0.75], 0.05) #tolerance is 0.05\n",
    "    IQR = quantiles[1] - quantiles[0]\n",
    "\n",
    "    bnds[col] = [\n",
    "     quantiles[0] - 1.5 * IQR,\n",
    "     quantiles[1] + 1.5 * IQR\n",
    "    ]\n",
    "bnds"
   ]
  },
  {
   "cell_type": "code",
   "execution_count": 8,
   "metadata": {},
   "outputs": [
    {
     "name": "stdout",
     "output_type": "stream",
     "text": [
      "+---+--------------------------+---+---------+--------+-----------------+-----------+-------------+-------------+-------------+-------------+-------------+-------------+-----------------+-----------------+-----------------+-----------------+-----------------+-----------------+----------------+----------------+----------------+----------------+----------------+----------------+\n",
      "| id|default payment next month|SEX|EDUCATION|MARRIAGE|LIMIT_BAL_outlier|AGE_outlier|PAY_0_outlier|PAY_2_outlier|PAY_3_outlier|PAY_4_outlier|PAY_5_outlier|PAY_6_outlier|BILL_AMT1_outlier|BILL_AMT2_outlier|BILL_AMT3_outlier|BILL_AMT4_outlier|BILL_AMT5_outlier|BILL_AMT6_outlier|PAY_AMT1_outlier|PAY_AMT2_outlier|PAY_AMT3_outlier|PAY_AMT4_outlier|PAY_AMT5_outlier|PAY_AMT6_outlier|\n",
      "+---+--------------------------+---+---------+--------+-----------------+-----------+-------------+-------------+-------------+-------------+-------------+-------------+-----------------+-----------------+-----------------+-----------------+-----------------+-----------------+----------------+----------------+----------------+----------------+----------------+----------------+\n",
      "|  1|                         1|  2|        2|       1|            false|      false|         true|         true|        false|        false|        false|        false|            false|            false|            false|            false|            false|            false|           false|           false|           false|           false|           false|           false|\n",
      "+---+--------------------------+---+---------+--------+-----------------+-----------+-------------+-------------+-------------+-------------+-------------+-------------+-----------------+-----------------+-----------------+-----------------+-----------------+-----------------+----------------+----------------+----------------+----------------+----------------+----------------+\n",
      "only showing top 1 row\n",
      "\n"
     ]
    },
    {
     "data": {
      "text/plain": [
       "18052"
      ]
     },
     "execution_count": 8,
     "metadata": {},
     "output_type": "execute_result"
    }
   ],
   "source": [
    "# appending the outlier indicators to the dataframe\n",
    "outliers = df.select(*['id', 'default payment next month', 'SEX', 'EDUCATION', 'MARRIAGE'] + [\n",
    " (\n",
    " (df[c] < bnds[c][0]) | (df[c] > bnds[c][1]))\n",
    "    .alias(c + '_outlier') for c in cols\n",
    "])\n",
    "\n",
    "outliers.show(1)\n",
    "\n",
    "# filtering the rows of the non-categorical features where there are outliers\n",
    "outliers.filter((outliers[5] == 'true') | (outliers[6] == 'true') |\\\n",
    "               (outliers[7] == 'true') | (outliers[8] == 'true') |\\\n",
    "               (outliers[9] == 'true') | (outliers[10] == 'true') |\\\n",
    "               (outliers[11] == 'true') | (outliers[12] == 'true') |\\\n",
    "               (outliers[13] == 'true') | (outliers[14] == 'true') |\\\n",
    "               (outliers[15] == 'true') | (outliers[16] == 'true') | \\\n",
    "               (outliers[17] == 'true') | (outliers[18] == 'true') |\\\n",
    "               (outliers[19] == 'true') | (outliers[20] == 'true') |\\\n",
    "               (outliers[21] == 'true') | (outliers[22] == 'true') |\\\n",
    "               (outliers[23] == 'true') | (outliers[24] == 'true')).count()\n"
   ]
  },
  {
   "cell_type": "markdown",
   "metadata": {},
   "source": [
    "Since over half of the dataset contains outliers, maybe it is best to not remove any outliers"
   ]
  },
  {
   "cell_type": "markdown",
   "metadata": {},
   "source": [
    "# Exploratory data analysis"
   ]
  },
  {
   "cell_type": "markdown",
   "metadata": {},
   "source": [
    "Y: default payment next month (1 = Default, 0 = Not Default)\n",
    "\n",
    "X1: Amount of the given credit (NT dollar): it includes both the individual consumer credit and his/her family (supplementary) credit.\n",
    "\n",
    "X2: Gender (1 = male; 2 = female).\n",
    "\n",
    "X3: Education Levels (1 = graduate school; 2 = university; 3 = high school; 4 = others)."
   ]
  },
  {
   "cell_type": "code",
   "execution_count": 9,
   "metadata": {},
   "outputs": [],
   "source": [
    "# define two functions for quick plotting\n",
    "import matplotlib as mpl\n",
    "import matplotlib.pyplot as plt\n",
    "\n",
    "def pie1(data, label, title):\n",
    "    '''A function to create a pie chart'''\n",
    "    mpl.rcParams['figure.dpi']= 120\n",
    "    plt.figure(figsize=(2.5,2.5))\n",
    "    plt.pie(data, labels = label, autopct = '%.2f%%')\n",
    "    plt.title(title, fontsize=10)\n",
    "    plt.show()\n",
    "    \n",
    "def pie2(data1, label1, title1, data2, label2, title2):\n",
    "    '''A function to create two pie charts in a row'''\n",
    "    mpl.rcParams['figure.dpi']= 100\n",
    "    plt.figure(figsize=(2.5,2.5))\n",
    "    fig, axs = plt.subplots(1,2)\n",
    "    axs[0].pie(data1, labels = label1, autopct = '%.2f%%')\n",
    "    axs[0].set_title(title1)\n",
    "    axs[1].pie(data2, labels = label2, autopct = '%.2f%%')\n",
    "    axs[1].set_title(title2)\n",
    "    plt.tight_layout()\n"
   ]
  },
  {
   "cell_type": "code",
   "execution_count": 10,
   "metadata": {},
   "outputs": [],
   "source": [
    "# Create subsets\n",
    "\n",
    "########## Not Default ##########\n",
    "default_no = df.filter(df['default payment next month'] == 0)\n",
    "\n",
    "# by gender\n",
    "default_no_male = default_no.filter(default_no['SEX'] == 1)\n",
    "default_no_female = default_no.filter(default_no['SEX'] == 2)\n",
    "\n",
    "# by education level\n",
    "default_no_grad = default_no.filter(default_no['EDUCATION'] == 1)\n",
    "default_no_uni = default_no.filter(default_no['EDUCATION'] == 2)\n",
    "default_no_high = default_no.filter(default_no['EDUCATION'] == 3)\n",
    "default_no_other = default_no.filter(default_no['EDUCATION'] == 4)\n",
    "\n",
    "########## Default ##########\n",
    "default_yes = df.filter(df['default payment next month'] == 1)\n",
    "\n",
    "# by gender\n",
    "default_yes_male = default_yes.filter(default_yes['SEX'] == 1)\n",
    "default_yes_female = default_yes.filter(default_yes['SEX'] == 2)\n",
    "\n",
    "# by education level\n",
    "default_yes_grad = default_yes.filter(default_yes['EDUCATION'] == 1)\n",
    "default_yes_uni = default_yes.filter(default_yes['EDUCATION'] == 2)\n",
    "default_yes_high = default_yes.filter(default_yes['EDUCATION'] == 3)\n",
    "default_yes_other = default_yes.filter(default_yes['EDUCATION'] == 4)"
   ]
  },
  {
   "cell_type": "markdown",
   "metadata": {},
   "source": [
    "## Distribution of Response Variable"
   ]
  },
  {
   "cell_type": "code",
   "execution_count": 11,
   "metadata": {},
   "outputs": [
    {
     "data": {
      "image/png": "[encoded data removed]",
      "text/plain": [
       "<Figure size 300x300 with 1 Axes>"
      ]
     },
     "metadata": {},
     "output_type": "display_data"
    }
   ],
   "source": [
    "# distribution of default/no default, for all clients\n",
    "default = [default_no.count(),default_yes.count()]\n",
    "default_label = [\"Not Default\",\"Default\"]\n",
    "pie1(default, default_label, \"Default Ratio\")"
   ]
  },
  {
   "cell_type": "markdown",
   "metadata": {},
   "source": [
    "## Client Gender Distribution"
   ]
  },
  {
   "cell_type": "code",
   "execution_count": 12,
   "metadata": {},
   "outputs": [
    {
     "data": {
      "text/plain": [
       "<Figure size 250x250 with 0 Axes>"
      ]
     },
     "metadata": {},
     "output_type": "display_data"
    },
    {
     "data": {
      "image/png": "[encoded data removed]",
      "text/plain": [
       "<Figure size 600x400 with 2 Axes>"
      ]
     },
     "metadata": {},
     "output_type": "display_data"
    }
   ],
   "source": [
    "# people who default next month, by gender\n",
    "default_yes_gender = [default_yes_male.count(), default_yes_female.count()]\n",
    "gender_label = [\"Male\",\"Female\"]\n",
    "\n",
    "# people who don't default next month, by gender\n",
    "default_no_gender = [default_no_male.count(), default_no_female.count()]\n",
    "gender_label = [\"Male\",\"Female\"]\n",
    "\n",
    "# pie charts\n",
    "pie2(default_yes_gender, gender_label, \"Gender Ratio, Default\",\n",
    "     default_no_gender, gender_label, \"Gender Ratio, Not Default\")"
   ]
  },
  {
   "cell_type": "markdown",
   "metadata": {},
   "source": [
    "## Male and Female Default Ratios"
   ]
  },
  {
   "cell_type": "code",
   "execution_count": 13,
   "metadata": {},
   "outputs": [
    {
     "data": {
      "text/plain": [
       "<Figure size 250x250 with 0 Axes>"
      ]
     },
     "metadata": {},
     "output_type": "display_data"
    },
    {
     "data": {
      "image/png": "[encoded data removed]",
      "text/plain": [
       "<Figure size 600x400 with 2 Axes>"
      ]
     },
     "metadata": {},
     "output_type": "display_data"
    }
   ],
   "source": [
    "# male default ratio\n",
    "male_default = [default_no_male.count(), default_yes_male.count()]\n",
    "default_label = [\"Not Default\",\"Default\"]\n",
    "\n",
    "# female default rate\n",
    "female_default = [default_no_female.count(), default_yes_female.count()]\n",
    "default_label = [\"Not Default\",\"Default\"]\n",
    "\n",
    "# pie charts\n",
    "pie2(male_default, default_label, \"Male Default Ratio\",\n",
    "    female_default, default_label, \"Female Default Ratio\")"
   ]
  },
  {
   "cell_type": "markdown",
   "metadata": {},
   "source": [
    "## Client Education Levels"
   ]
  },
  {
   "cell_type": "code",
   "execution_count": 14,
   "metadata": {},
   "outputs": [
    {
     "data": {
      "text/plain": [
       "<Figure size 250x250 with 0 Axes>"
      ]
     },
     "metadata": {},
     "output_type": "display_data"
    },
    {
     "data": {
      "image/png": "[encoded data removed]",
      "text/plain": [
       "<Figure size 600x400 with 2 Axes>"
      ]
     },
     "metadata": {},
     "output_type": "display_data"
    }
   ],
   "source": [
    "# people who default next month, by education level\n",
    "default_yes_education = [default_yes_grad.count(), default_yes_uni.count(),\n",
    "                        default_yes_high.count(), default_yes_other.count()]\n",
    "education_label = [\"Graduate School\", \"University\",\"High School\",\"Others\"]\n",
    "\n",
    "# people who don't default next month, by education level\n",
    "default_no_education = [default_no_grad.count(), default_no_uni.count(),\n",
    "                        default_no_high.count(), default_no_other.count()]\n",
    "education_label = [\"Graduate School\", \"University\",\"High School\",\"Others\"]\n",
    "\n",
    "# pie charts\n",
    "pie2(default_yes_education, education_label, \"Education Levels, Default\",\n",
    "    default_no_education, education_label, \"Education Levels, Not Default\")"
   ]
  },
  {
   "cell_type": "markdown",
   "metadata": {},
   "source": [
    "## Education Levels and Type of Default"
   ]
  },
  {
   "cell_type": "code",
   "execution_count": 15,
   "metadata": {},
   "outputs": [
    {
     "data": {
      "text/plain": [
       "<Figure size 600x600 with 0 Axes>"
      ]
     },
     "metadata": {},
     "output_type": "display_data"
    },
    {
     "data": {
      "image/png": "[encoded data removed]",
      "text/plain": [
       "<Figure size 600x400 with 1 Axes>"
      ]
     },
     "metadata": {
      "needs_background": "light"
     },
     "output_type": "display_data"
    }
   ],
   "source": [
    "# type of default, by education levels\n",
    "education_label = [\"Graduate School\", \"University\",\"High School\",\"Others\"]\n",
    "width = 0.666\n",
    "\n",
    "plt.figure(figsize=(6,6))\n",
    "fig, ax = plt.subplots()\n",
    "ax.bar(education_label, default_yes_education, width, label='Default')\n",
    "ax.bar(education_label, default_no_education, width, label='Not Default', bottom=default_yes_education)\n",
    "ax.set_ylabel('Number of Clients')\n",
    "ax.set_title('Type of Default by Education Levels')\n",
    "ax.legend()\n",
    "plt.show()\n"
   ]
  },
  {
   "cell_type": "markdown",
   "metadata": {},
   "source": [
    "## Limit Balance and Type of Default"
   ]
  },
  {
   "cell_type": "code",
   "execution_count": 16,
   "metadata": {},
   "outputs": [
    {
     "name": "stdout",
     "output_type": "stream",
     "text": [
      "+---------+-----+\n",
      "|LIMIT_BAL|count|\n",
      "+---------+-----+\n",
      "|    10000|  296|\n",
      "|    16000|    2|\n",
      "|    20000| 1278|\n",
      "|    30000| 1042|\n",
      "|    40000|  138|\n",
      "|    50000| 2480|\n",
      "|    60000|  592|\n",
      "|    70000|  521|\n",
      "|    80000| 1204|\n",
      "|    90000|  485|\n",
      "|   100000|  776|\n",
      "|   110000|  456|\n",
      "|   120000|  547|\n",
      "|   130000|  572|\n",
      "|   140000|  579|\n",
      "|   150000|  923|\n",
      "|   160000|  557|\n",
      "|   170000|  454|\n",
      "|   180000|  819|\n",
      "|   190000|  180|\n",
      "+---------+-----+\n",
      "only showing top 20 rows\n",
      "\n"
     ]
    }
   ],
   "source": [
    "import pandas as pd\n",
    "# Not default group\n",
    "ct_no = default_no.groupby('LIMIT_BAL').count()\n",
    "ct_no.sort('LIMIT_BAL').show()"
   ]
  },
  {
   "cell_type": "code",
   "execution_count": 17,
   "metadata": {},
   "outputs": [
    {
     "name": "stdout",
     "output_type": "stream",
     "text": [
      "+---------+-----+\n",
      "|LIMIT_BAL|count|\n",
      "+---------+-----+\n",
      "|    10000|  197|\n",
      "|    20000|  698|\n",
      "|    30000|  568|\n",
      "|    40000|   92|\n",
      "|    50000|  885|\n",
      "|    60000|  233|\n",
      "|    70000|  210|\n",
      "|    80000|  363|\n",
      "|    90000|  166|\n",
      "|   100000|  272|\n",
      "|   110000|  132|\n",
      "|   120000|  179|\n",
      "|   130000|  157|\n",
      "|   140000|  170|\n",
      "|   150000|  187|\n",
      "|   160000|  137|\n",
      "|   170000|   78|\n",
      "|   180000|  176|\n",
      "|   190000|   49|\n",
      "|   200000|  270|\n",
      "+---------+-----+\n",
      "only showing top 20 rows\n",
      "\n"
     ]
    }
   ],
   "source": [
    "# Default group\n",
    "ct_yes = default_yes.groupby('LIMIT_BAL').count()\n",
    "ct_yes.sort('LIMIT_BAL').show()"
   ]
  },
  {
   "cell_type": "code",
   "execution_count": 18,
   "metadata": {},
   "outputs": [
    {
     "data": {
      "text/plain": [
       "<matplotlib.axes._subplots.AxesSubplot at 0x7fde9ac21518>"
      ]
     },
     "execution_count": 18,
     "metadata": {},
     "output_type": "execute_result"
    },
    {
     "data": {
      "image/png": "[encoded data removed]",
      "text/plain": [
       "<Figure size 600x400 with 1 Axes>"
      ]
     },
     "metadata": {
      "needs_background": "light"
     },
     "output_type": "display_data"
    }
   ],
   "source": [
    "# plot for default group\n",
    "ct_yes_pd=ct_yes.sort('LIMIT_BAL').toPandas()\n",
    "ct_yes_pd['LIMIT_BAL']=ct_yes_pd['LIMIT_BAL']/10000\n",
    "ct_yes_pd['LIMIT_BAL'].round()\n",
    "\n",
    "ct_yes_pd.plot(x='LIMIT_BAL',y='count',color='red',title='Credit Default Next Month Count vs Limited Balance in $10,000')"
   ]
  },
  {
   "cell_type": "code",
   "execution_count": 19,
   "metadata": {},
   "outputs": [
    {
     "data": {
      "text/plain": [
       "<matplotlib.axes._subplots.AxesSubplot at 0x7fdeb8f3dba8>"
      ]
     },
     "execution_count": 19,
     "metadata": {},
     "output_type": "execute_result"
    },
    {
     "data": {
      "image/png": "[encoded data removed]",
      "text/plain": [
       "<Figure size 600x400 with 1 Axes>"
      ]
     },
     "metadata": {
      "needs_background": "light"
     },
     "output_type": "display_data"
    }
   ],
   "source": [
    "# plot for not default group\n",
    "ct_no_pd=ct_no.sort('LIMIT_BAL').toPandas()\n",
    "ct_no_pd['LIMIT_BAL']=ct_no_pd['LIMIT_BAL']/10000\n",
    "ct_no_pd['LIMIT_BAL'].round()\n",
    "\n",
    "ct_no_pd.plot(x='LIMIT_BAL',y='count',color='red',fontsize=8,title='Credit Does Not Default Next Month Count vs Limited Balance in $10,000')"
   ]
  },
  {
   "cell_type": "markdown",
   "metadata": {},
   "source": [
    "# Models and Results"
   ]
  },
  {
   "cell_type": "code",
   "execution_count": 20,
   "metadata": {},
   "outputs": [],
   "source": [
    "# rename response variable as \"label\" for easier using\n",
    "df2 = df.withColumnRenamed(\"default payment next month\", \"label\")"
   ]
  },
  {
   "cell_type": "markdown",
   "metadata": {},
   "source": [
    "## Data Splitting"
   ]
  },
  {
   "cell_type": "code",
   "execution_count": 21,
   "metadata": {},
   "outputs": [
    {
     "name": "stdout",
     "output_type": "stream",
     "text": [
      "+------------+-----+\n",
      "|    Datasets|Count|\n",
      "+------------+-----+\n",
      "|Training set|20925|\n",
      "|    Test set| 9075|\n",
      "|    Raw data|30000|\n",
      "+------------+-----+\n",
      "\n"
     ]
    }
   ],
   "source": [
    "#Split data into train set (70%), test set (30%) using seed=314\n",
    "training, test = df2.randomSplit([0.7, 0.3], seed=314)\n",
    "\n",
    "#Count records in datasets\n",
    "train_count = training.count()\n",
    "test_count = test.count()\n",
    "raw_count = df2.count()\n",
    "records_count = spark.createDataFrame([\n",
    "    ('Training set', train_count),\n",
    "    ('Test set', test_count),\n",
    "    ('Raw data', raw_count),\n",
    "], [\"Datasets\", \"Count\"])\n",
    "\n",
    "records_count.show()"
   ]
  },
  {
   "cell_type": "markdown",
   "metadata": {},
   "source": [
    "## Data Balancing"
   ]
  },
  {
   "cell_type": "code",
   "execution_count": 22,
   "metadata": {},
   "outputs": [],
   "source": [
    "# Since the data is imbalanced, we balance the data using oversampling method. Do this on train set only. \n",
    "from pyspark.sql.functions import col, explode, array, lit\n",
    "\n",
    "major_train = training.filter(col('label') == 0)\n",
    "minor_train = training.filter(col('label') == 1)\n",
    "ratio = int(major_train.count()/minor_train.count())\n",
    "ratio_range = range(ratio)\n",
    "\n",
    "# Oversample minority class by dulicating the observations in minority class\n",
    "oversampled_train = minor_train.withColumn(\"dummy\", explode(array([lit(x) for x in ratio_range]))).drop('dummy')\n",
    "\n",
    "# combine the majority class with oversampled minority class\n",
    "final_train = major_train.unionAll(oversampled_train)"
   ]
  },
  {
   "cell_type": "code",
   "execution_count": 23,
   "metadata": {},
   "outputs": [
    {
     "name": "stdout",
     "output_type": "stream",
     "text": [
      "+-----+-----+\n",
      "|label|count|\n",
      "+-----+-----+\n",
      "|    1| 4640|\n",
      "|    0|16285|\n",
      "+-----+-----+\n",
      "\n"
     ]
    }
   ],
   "source": [
    "#check the distribution of the response variable for training set (before oversampling)\n",
    "train0 = training.filter(training['label'] == 0).count()\n",
    "train1 = training.filter(training['label'] == 1).count()\n",
    "train_ls = [train0,train1]\n",
    "train_lablel = [\"default = 0\", \"default = 1\"]\n",
    "training.groupBy('label').count().show()\n"
   ]
  },
  {
   "cell_type": "code",
   "execution_count": 24,
   "metadata": {},
   "outputs": [
    {
     "name": "stdout",
     "output_type": "stream",
     "text": [
      "+-----+-----+\n",
      "|label|count|\n",
      "+-----+-----+\n",
      "|    1|13920|\n",
      "|    0|16285|\n",
      "+-----+-----+\n",
      "\n"
     ]
    }
   ],
   "source": [
    "#check the distribution of the response variable for training set (after oversampling)\n",
    "final_train0 = final_train.filter(final_train['label'] == 0).count()\n",
    "final_train1 = final_train.filter(final_train['label'] == 1).count()\n",
    "finalTrain_ls = [final_train0,final_train1]\n",
    "finalTrain_label = [\"default = 0\", \"default = 1\"]\n",
    "final_train.groupBy('label').count().show()\n"
   ]
  },
  {
   "cell_type": "markdown",
   "metadata": {},
   "source": [
    "## Benchmark Model (Simple logistic Regression)"
   ]
  },
  {
   "cell_type": "code",
   "execution_count": 25,
   "metadata": {},
   "outputs": [],
   "source": [
    "from pyspark.ml.classification import LogisticRegression\n",
    "from pyspark.ml import Pipeline  \n",
    "from pyspark.ml.feature import VectorAssembler\n",
    "from pyspark.ml.evaluation import BinaryClassificationEvaluator\n",
    "\n",
    "# Build model using pipline\n",
    "\n",
    "# assembling the features together into one vector (using only 3 features)\n",
    "assembler_bm = VectorAssembler(inputCols = ['LIMIT_BAL','SEX','AGE',], outputCol=\"features\")\n",
    "\n",
    "# Create an Logistic Regression model.\n",
    "bm = LogisticRegression(labelCol= \"label\", featuresCol=\"features\", maxIter=10, regParam=0.01)\n",
    "\n",
    "pipeline_bm = Pipeline(stages=[assembler_bm, bm])\n",
    "\n",
    "# Fit the pipeline\n",
    "bm_model = pipeline_bm.fit(final_train)\n",
    "\n",
    "# Make prediction\n",
    "prediction_bm = bm_model.transform(test)"
   ]
  },
  {
   "cell_type": "markdown",
   "metadata": {},
   "source": [
    "## Model Evaluation for Benchmark Model"
   ]
  },
  {
   "cell_type": "code",
   "execution_count": 26,
   "metadata": {},
   "outputs": [
    {
     "name": "stdout",
     "output_type": "stream",
     "text": [
      "Confusion Matrix:\n",
      "[[4739.  959.]\n",
      " [2340. 1037.]]\n"
     ]
    }
   ],
   "source": [
    "#confusion matrix\n",
    "from pyspark.mllib.evaluation import MulticlassMetrics\n",
    "\n",
    "labelsAndPreds_bm = prediction_bm[\"label\", \"prediction\"].rdd\n",
    "label_pred_bm = labelsAndPreds_bm.map(lambda p: (float(p.label), float(p.prediction)))\n",
    "matrix_bm = MulticlassMetrics(label_pred_bm)\n",
    "\n",
    "print(\"Confusion Matrix:\\n{}\".format(matrix_bm.confusionMatrix().toArray()))"
   ]
  },
  {
   "cell_type": "code",
   "execution_count": 27,
   "metadata": {},
   "outputs": [],
   "source": [
    "# calculate accuracy, precision, recall, and F1-score\n",
    "TP_bm = prediction_bm.filter('prediction = 1 AND label = prediction').count()\n",
    "TN_bm = prediction_bm.filter('prediction = 0 AND label = prediction').count()\n",
    "FP_bm = prediction_bm.filter('prediction = 1 AND label <> prediction').count()\n",
    "FN_bm = prediction_bm.filter('prediction = 0 AND label <> prediction').count()\n",
    "\n",
    "accuracy_bm = (TN_bm + TP_bm) / (TN_bm + TP_bm + FN_bm + FP_bm)\n",
    "precision_bm = TP_bm / (TP_bm + FP_bm)\n",
    "recall_bm = TP_bm / (TP_bm+ FN_bm)\n",
    "F_bm =  2 * ((precision_bm*recall_bm) / (precision_bm + recall_bm))"
   ]
  },
  {
   "cell_type": "code",
   "execution_count": 28,
   "metadata": {},
   "outputs": [
    {
     "name": "stdout",
     "output_type": "stream",
     "text": [
      "accuracy: 0.6365\n",
      "precision: 0.3071\n",
      "recall: 0.5195\n",
      "F1 score: 0.3860\n"
     ]
    }
   ],
   "source": [
    "print(\"accuracy: %.4F\" % accuracy_bm)\n",
    "print(\"precision: %.4F\" % precision_bm)\n",
    "print(\"recall: %.4F\" % recall_bm)\n",
    "print(\"F1 score: %.4F\" % F_bm)"
   ]
  },
  {
   "cell_type": "code",
   "execution_count": 29,
   "metadata": {},
   "outputs": [
    {
     "name": "stdout",
     "output_type": "stream",
     "text": [
      "AUC: 0.6229\n"
     ]
    }
   ],
   "source": [
    "# Calculate AUC\n",
    "eval_bm = BinaryClassificationEvaluator(labelCol=\"label\", rawPredictionCol=\"rawPrediction\")\n",
    "auc_bm = eval_bm.evaluate(prediction_bm, {eval_bm.metricName: \"areaUnderROC\"})\n",
    "print(\"AUC: %.4F\" % auc_bm)"
   ]
  },
  {
   "cell_type": "markdown",
   "metadata": {},
   "source": [
    "## Logistic Regression with Cross-Validation"
   ]
  },
  {
   "cell_type": "code",
   "execution_count": 30,
   "metadata": {},
   "outputs": [],
   "source": [
    "from pyspark.ml.tuning import CrossValidator, ParamGridBuilder\n",
    "from pyspark.ml.feature import StandardScaler\n",
    "\n",
    "# Build model using pipeline\n",
    "\n",
    "# assembling the features together into one vector (removing ID which is not an important variable)\n",
    "assembler_lr = VectorAssembler(inputCols = ['LIMIT_BAL','SEX',\n",
    "                       'EDUCATION','MARRIAGE','AGE',\n",
    "                       'PAY_0','PAY_2','PAY_3',\n",
    "                       'PAY_4','PAY_5','PAY_6',\n",
    "                       'BILL_AMT1','BILL_AMT2','BILL_AMT3',\n",
    "                       'BILL_AMT4','BILL_AMT5','BILL_AMT6',\n",
    "                       'PAY_AMT1','PAY_AMT2','PAY_AMT3',\n",
    "                       'PAY_AMT4','PAY_AMT5','PAY_AMT6'], outputCol=\"unscaled_features\")\n",
    "\n",
    "# Scale features\n",
    "scaler_lr = StandardScaler(inputCol=\"unscaled_features\", outputCol=\"scaledFeatures\")\n",
    "\n",
    "# Create an Logistic Regression model.\n",
    "lr = LogisticRegression(labelCol= \"label\", featuresCol=\"scaledFeatures\")\n",
    "\n",
    "pipeline_lr = Pipeline(stages=[assembler_lr, scaler_lr, lr])\n",
    "\n",
    "# Set up the parameter grid\n",
    "lr_paramGrid = ParamGridBuilder()\\\n",
    "    .addGrid(lr.elasticNetParam,[0.0, 0.5, 1.0])\\\n",
    "    .addGrid(lr.fitIntercept,[False, True])\\\n",
    "    .addGrid(lr.maxIter,[10, 100, 1000])\\\n",
    "    .addGrid(lr.regParam,[0.1, 0.5, 1.0, 2.0]) \\\n",
    "    .build()\n",
    "\n",
    "# Create 10-fold CrossValidator\n",
    "lr_cv = CrossValidator(estimator = pipeline_lr,\n",
    "                      estimatorParamMaps = lr_paramGrid,\n",
    "                      evaluator = BinaryClassificationEvaluator(),\n",
    "                      numFolds = 10,\n",
    "                      seed = 314)"
   ]
  },
  {
   "cell_type": "code",
   "execution_count": 31,
   "metadata": {},
   "outputs": [],
   "source": [
    "# Run cross-validation, and choose the best set of parameters.\n",
    "cv_lrModel = lr_cv.fit(final_train)"
   ]
  },
  {
   "cell_type": "code",
   "execution_count": 32,
   "metadata": {},
   "outputs": [],
   "source": [
    "# select the best model found by cv\n",
    "lr_best = cv_lrModel.bestModel\n",
    "\n",
    "#Make prediction on test set\n",
    "prediction_lr = lr_best.transform(test)"
   ]
  },
  {
   "cell_type": "markdown",
   "metadata": {},
   "source": [
    "## Model Evaluation for Logistic Regression"
   ]
  },
  {
   "cell_type": "code",
   "execution_count": 33,
   "metadata": {},
   "outputs": [
    {
     "name": "stdout",
     "output_type": "stream",
     "text": [
      "Confusion Matrix:\n",
      "[[5928.  920.]\n",
      " [1151. 1076.]]\n"
     ]
    }
   ],
   "source": [
    "#confusion matrix\n",
    "\n",
    "labelsAndPreds_lr = prediction_lr[\"label\", \"prediction\"].rdd\n",
    "label_pred_lr = labelsAndPreds_lr.map(lambda p: (float(p.label), float(p.prediction)))\n",
    "matrix_lr = MulticlassMetrics(label_pred_lr)\n",
    "\n",
    "print(\"Confusion Matrix:\\n{}\".format(matrix_lr.confusionMatrix().toArray()))"
   ]
  },
  {
   "cell_type": "code",
   "execution_count": 34,
   "metadata": {},
   "outputs": [],
   "source": [
    "# calculate accuracy, precision, recall, and F1-score\n",
    "TP_lr = prediction_lr.filter('prediction = 1 AND label = prediction').count()\n",
    "TN_lr = prediction_lr.filter('prediction = 0 AND label = prediction').count()\n",
    "FP_lr = prediction_lr.filter('prediction = 1 AND label <> prediction').count()\n",
    "FN_lr = prediction_lr.filter('prediction = 0 AND label <> prediction').count()\n",
    "\n",
    "accuracy_lr = (TN_lr + TP_lr) / (TN_lr + TP_lr + FN_lr + FP_lr)\n",
    "precision_lr = TP_lr / (TP_lr + FP_lr)\n",
    "recall_lr = TP_lr / (TP_lr + FN_lr)\n",
    "F_lr =  2 * ((precision_lr*recall_lr) / (precision_lr + recall_lr))"
   ]
  },
  {
   "cell_type": "code",
   "execution_count": 35,
   "metadata": {},
   "outputs": [
    {
     "name": "stdout",
     "output_type": "stream",
     "text": [
      "accuracy: 0.7718\n",
      "precision: 0.4832\n",
      "recall: 0.5391\n",
      "F1 score: 0.5096\n"
     ]
    }
   ],
   "source": [
    "print(\"accuracy: %.4F\" % accuracy_lr)\n",
    "print(\"precision: %.4F\" % precision_lr)\n",
    "print(\"recall: %.4F\" % recall_lr)\n",
    "print(\"F1 score: %.4F\" % F_lr)"
   ]
  },
  {
   "cell_type": "code",
   "execution_count": 36,
   "metadata": {},
   "outputs": [
    {
     "name": "stdout",
     "output_type": "stream",
     "text": [
      "AUC: 0.7254\n"
     ]
    }
   ],
   "source": [
    "# Calculate AUC\n",
    "eval_lr = BinaryClassificationEvaluator(labelCol=\"label\", rawPredictionCol=\"rawPrediction\")\n",
    "auc_lr = eval_lr.evaluate(prediction_lr, {eval_lr.metricName: \"areaUnderROC\"})\n",
    "print(\"AUC: %.4F\" % auc_lr)"
   ]
  },
  {
   "cell_type": "markdown",
   "metadata": {},
   "source": [
    "## Decision Trees"
   ]
  },
  {
   "cell_type": "code",
   "execution_count": 37,
   "metadata": {},
   "outputs": [],
   "source": [
    "from pyspark.ml.classification import DecisionTreeClassifier"
   ]
  },
  {
   "cell_type": "code",
   "execution_count": 38,
   "metadata": {},
   "outputs": [],
   "source": [
    "assembler_dt = VectorAssembler(inputCols=['LIMIT_BAL','SEX',\n",
    "                       'EDUCATION','MARRIAGE','AGE',\n",
    "                       'PAY_0','PAY_2','PAY_3',\n",
    "                       'PAY_4','PAY_5','PAY_6',\n",
    "                       'BILL_AMT1','BILL_AMT2','BILL_AMT3',\n",
    "                       'BILL_AMT4','BILL_AMT5','BILL_AMT6',\n",
    "                       'PAY_AMT1','PAY_AMT2','PAY_AMT3',\n",
    "                       'PAY_AMT4','PAY_AMT5','PAY_AMT6'], outputCol=\"features\")\n",
    "\n",
    "dt = DecisionTreeClassifier(labelCol=\"label\", featuresCol=\"features\")\n",
    "pipeline_dt = Pipeline(stages=[assembler_dt,dt])"
   ]
  },
  {
   "cell_type": "code",
   "execution_count": 39,
   "metadata": {},
   "outputs": [],
   "source": [
    "from pyspark.ml.tuning import CrossValidator, ParamGridBuilder\n",
    "\n",
    "# ParamGrid for cross validation\n",
    "paramGrid_dt = ParamGridBuilder()\\\n",
    "             .addGrid(dt.maxDepth, [2, 5, 10])\\\n",
    "             .addGrid(dt.maxBins, [5, 10, 20])\\\n",
    "             .build()\n",
    "            \n",
    "# use pipeline as an estimator, 10-fold cross validation, seed 314\n",
    "crossVal_dt = CrossValidator(estimator = pipeline_dt,\n",
    "                          estimatorParamMaps = paramGrid_dt,\n",
    "                          evaluator = BinaryClassificationEvaluator(),\n",
    "                          numFolds = 10,\n",
    "                          seed = 314)"
   ]
  },
  {
   "cell_type": "code",
   "execution_count": 40,
   "metadata": {},
   "outputs": [],
   "source": [
    "# Run cross-validation to choose the best set of parameters.\n",
    "cv_model_dt = crossVal_dt.fit(final_train)"
   ]
  },
  {
   "cell_type": "code",
   "execution_count": 41,
   "metadata": {},
   "outputs": [],
   "source": [
    "# select the best model found by cv\n",
    "dt_best = cv_model_dt.bestModel\n",
    "\n",
    "# make predictions\n",
    "prediction_dt = dt_best.transform(test)"
   ]
  },
  {
   "cell_type": "markdown",
   "metadata": {},
   "source": [
    "## Model Evaluation for Decision Tree"
   ]
  },
  {
   "cell_type": "code",
   "execution_count": 42,
   "metadata": {},
   "outputs": [
    {
     "name": "stdout",
     "output_type": "stream",
     "text": [
      "Confusion Matrix:\n",
      "[[5757. 1322.]\n",
      " [ 800. 1196.]]\n"
     ]
    }
   ],
   "source": [
    "# confusion matrix\n",
    "label_pred_dt = prediction_dt[\"label\", \"prediction\"].rdd.map(lambda p: (float(p.prediction), float(p.label)))\n",
    "matrix_dt = MulticlassMetrics(label_pred_dt)\n",
    "\n",
    "confusionMatrix = matrix_dt.confusionMatrix().toArray()\n",
    "print(\"Confusion Matrix:\\n{}\".format(confusionMatrix))"
   ]
  },
  {
   "cell_type": "code",
   "execution_count": 43,
   "metadata": {},
   "outputs": [
    {
     "name": "stdout",
     "output_type": "stream",
     "text": [
      "accuracy: 0.7662\n",
      "precision: 0.4750\n",
      "recall: 0.5992\n",
      "F1 score: 0.5299\n"
     ]
    }
   ],
   "source": [
    "# accuracy, precision, recall, and F1-score\n",
    "TP_dt = prediction_dt.filter('prediction = 1 AND label = prediction').count()\n",
    "TN_dt = prediction_dt.filter('prediction = 0 AND label = prediction').count()\n",
    "FP_dt = prediction_dt.filter('prediction = 1 AND label <> prediction').count()\n",
    "FN_dt = prediction_dt.filter('prediction = 0 AND label <> prediction').count()\n",
    "\n",
    "accuracy_dt = (TN_dt + TP_dt) / (TN_dt + TP_dt + FN_dt + FP_dt)\n",
    "precision_dt = TP_dt / (TP_dt + FP_dt)\n",
    "recall_dt = TP_dt / (TP_dt+ FN_dt)\n",
    "F1_dt =  2 * ((precision_dt*recall_dt) / (precision_dt + recall_dt))\n",
    "\n",
    "print(\"accuracy: %.4F\" % accuracy_dt)\n",
    "print(\"precision: %.4F\" % precision_dt)\n",
    "print(\"recall: %.4F\" % recall_dt)\n",
    "print(\"F1 score: %.4F\" % F1_dt)"
   ]
  },
  {
   "cell_type": "code",
   "execution_count": 44,
   "metadata": {},
   "outputs": [
    {
     "name": "stdout",
     "output_type": "stream",
     "text": [
      "Area Under ROC: 0.6801\n"
     ]
    }
   ],
   "source": [
    "# Area Under ROC\n",
    "eval_dt = BinaryClassificationEvaluator()\n",
    "auc_dt = eval_dt.evaluate(prediction_dt, {eval_dt.metricName: \"areaUnderROC\"})\n",
    "print(\"Area Under ROC: %.4F\" % auc_dt)"
   ]
  },
  {
   "cell_type": "markdown",
   "metadata": {},
   "source": [
    "## Random Forest"
   ]
  },
  {
   "cell_type": "code",
   "execution_count": 45,
   "metadata": {},
   "outputs": [],
   "source": [
    "from pyspark.ml.classification import RandomForestClassifier\n",
    "from pyspark.ml.tuning import CrossValidator, ParamGridBuilder\n",
    "\n",
    "# Build model using pipline\n",
    "\n",
    "# assembling the features together into one vector (removing ID which is not an important variable)\n",
    "assembler_rf = VectorAssembler(inputCols = ['LIMIT_BAL','SEX',\n",
    "                       'EDUCATION','MARRIAGE','AGE',\n",
    "                       'PAY_0','PAY_2','PAY_3',\n",
    "                       'PAY_4','PAY_5','PAY_6',\n",
    "                       'BILL_AMT1','BILL_AMT2','BILL_AMT3',\n",
    "                       'BILL_AMT4','BILL_AMT5','BILL_AMT6',\n",
    "                       'PAY_AMT1','PAY_AMT2','PAY_AMT3',\n",
    "                       'PAY_AMT4','PAY_AMT5','PAY_AMT6'], outputCol=\"features\")\n",
    "\n",
    "# Create an RandomForest model.\n",
    "rf = RandomForestClassifier(labelCol= \"label\", featuresCol=\"features\")\n",
    "\n",
    "pipeline_rf = Pipeline(stages=[assembler_rf, rf])\n",
    "\n",
    "# Set up the parameter grid\n",
    "rfparamGrid = (ParamGridBuilder()\n",
    "               .addGrid(rf.numTrees, [100, 300])\n",
    "               .addGrid(rf.maxDepth, [2, 5])\n",
    "               .addGrid(rf.maxBins, [5, 10])\n",
    "               .build())\n",
    "\n",
    "# Create 10-fold CrossValidator\n",
    "rfcv = CrossValidator(estimator = pipeline_rf,\n",
    "                      estimatorParamMaps = rfparamGrid,\n",
    "                      evaluator = BinaryClassificationEvaluator(),\n",
    "                      numFolds = 10,\n",
    "                      seed = 314)\n"
   ]
  },
  {
   "cell_type": "code",
   "execution_count": 46,
   "metadata": {},
   "outputs": [],
   "source": [
    "# Run cross-validation to choose the best set of parameters.\n",
    "cv_rfModel = rfcv.fit(final_train)"
   ]
  },
  {
   "cell_type": "code",
   "execution_count": 47,
   "metadata": {},
   "outputs": [],
   "source": [
    "# select the best model found by cv\n",
    "rf_best = cv_rfModel.bestModel\n",
    "\n",
    "#Make prediction on test set\n",
    "prediction_rf = rf_best.transform(test)"
   ]
  },
  {
   "cell_type": "markdown",
   "metadata": {},
   "source": [
    "## Model Evaluation for Random Forest"
   ]
  },
  {
   "cell_type": "code",
   "execution_count": 48,
   "metadata": {},
   "outputs": [
    {
     "name": "stdout",
     "output_type": "stream",
     "text": [
      "Confusion Matrix:\n",
      "[[6095.  878.]\n",
      " [ 984. 1118.]]\n"
     ]
    }
   ],
   "source": [
    "#confusion matrix\n",
    "\n",
    "labelsAndPreds_rf = prediction_rf[\"label\", \"prediction\"].rdd\n",
    "label_pred_rf = labelsAndPreds_rf.map(lambda p: (float(p.label), float(p.prediction)))\n",
    "matrix_rf = MulticlassMetrics(label_pred_rf)\n",
    "\n",
    "print(\"Confusion Matrix:\\n{}\".format(matrix_rf.confusionMatrix().toArray()))"
   ]
  },
  {
   "cell_type": "code",
   "execution_count": 49,
   "metadata": {},
   "outputs": [],
   "source": [
    "# calculate accuracy, precision, recall, and F1-score\n",
    "TP_rf = prediction_rf.filter('prediction = 1 AND label = prediction').count()\n",
    "TN_rf = prediction_rf.filter('prediction = 0 AND label = prediction').count()\n",
    "FP_rf = prediction_rf.filter('prediction = 1 AND label <> prediction').count()\n",
    "FN_rf = prediction_rf.filter('prediction = 0 AND label <> prediction').count()\n",
    "\n",
    "accuracy_rf = (TN_rf + TP_rf) / (TN_rf + TP_rf + FN_rf + FP_rf)\n",
    "precision_rf = TP_rf / (TP_rf + FP_rf)\n",
    "recall_rf = TP_rf / (TP_rf+ FN_rf)\n",
    "F_rf =  2 * ((precision_rf*recall_rf) / (precision_rf + recall_rf))"
   ]
  },
  {
   "cell_type": "code",
   "execution_count": 50,
   "metadata": {},
   "outputs": [
    {
     "name": "stdout",
     "output_type": "stream",
     "text": [
      "accuracy: 0.7948\n",
      "precision: 0.5319\n",
      "recall: 0.5601\n",
      "F1 score: 0.5456\n"
     ]
    }
   ],
   "source": [
    "print(\"accuracy: %.4F\" % accuracy_rf)\n",
    "print(\"precision: %.4F\" % precision_rf)\n",
    "print(\"recall: %.4F\" % recall_rf)\n",
    "print(\"F1 score: %.4F\" % F_rf)"
   ]
  },
  {
   "cell_type": "code",
   "execution_count": 51,
   "metadata": {},
   "outputs": [
    {
     "name": "stdout",
     "output_type": "stream",
     "text": [
      "AUC: 0.7749\n"
     ]
    }
   ],
   "source": [
    "# Calculate AUC\n",
    "eval_rf = BinaryClassificationEvaluator(labelCol=\"label\", rawPredictionCol=\"rawPrediction\")\n",
    "auc_rf = eval_rf.evaluate(prediction_rf, {eval_rf.metricName: \"areaUnderROC\"})\n",
    "print(\"AUC: %.4F\" % auc_rf)"
   ]
  },
  {
   "cell_type": "markdown",
   "metadata": {},
   "source": [
    "## Support Vector Machine"
   ]
  },
  {
   "cell_type": "code",
   "execution_count": 52,
   "metadata": {},
   "outputs": [],
   "source": [
    "from pyspark.ml.classification import LinearSVC\n",
    "from pyspark.ml.feature import StandardScaler\n",
    "\n",
    "#Build model using pipeline\n",
    "\n",
    "# assembling the features together into one vector (removing ID which is not an important variable)\n",
    "assembler_svm = VectorAssembler(inputCols = ['LIMIT_BAL','SEX',\n",
    "                       'EDUCATION','MARRIAGE','AGE',\n",
    "                       'PAY_0','PAY_2','PAY_3',\n",
    "                       'PAY_4','PAY_5','PAY_6',\n",
    "                       'BILL_AMT1','BILL_AMT2','BILL_AMT3',\n",
    "                       'BILL_AMT4','BILL_AMT5','BILL_AMT6',\n",
    "                       'PAY_AMT1','PAY_AMT2','PAY_AMT3',\n",
    "                       'PAY_AMT4','PAY_AMT5','PAY_AMT6'], outputCol=\"unscaled_features\")\n",
    "\n",
    "# Scale features\n",
    "scaler_svm = StandardScaler(inputCol=\"unscaled_features\", outputCol=\"scaledFeatures\")\n",
    "\n",
    "# Create an svm model.\n",
    "svm = LinearSVC(labelCol= \"label\", featuresCol=\"scaledFeatures\")\n",
    "\n",
    "pipeline_svm = Pipeline(stages=[assembler_svm, scaler_svm, svm])\n",
    "\n",
    "# Set up the parameter grid\n",
    "svm_paramGrid = (ParamGridBuilder()\n",
    "               .addGrid(svm.maxIter, [5, 10, 20])\n",
    "               .addGrid(svm.regParam, [0.1, 0.05, 0.01])\n",
    "               .build())\n",
    "\n",
    "# Create 10-fold CrossValidator\n",
    "svm_cv = CrossValidator(estimator = pipeline_svm,\n",
    "                      estimatorParamMaps = svm_paramGrid,\n",
    "                      evaluator = BinaryClassificationEvaluator(),\n",
    "                      numFolds = 10,\n",
    "                      seed = 314)\n"
   ]
  },
  {
   "cell_type": "code",
   "execution_count": 53,
   "metadata": {},
   "outputs": [],
   "source": [
    "# Run cross-validation, and choose the best set of parameters.\n",
    "cv_svmModel = svm_cv.fit(final_train)"
   ]
  },
  {
   "cell_type": "code",
   "execution_count": 54,
   "metadata": {},
   "outputs": [],
   "source": [
    "# select the best model found by cv\n",
    "svm_best = cv_svmModel.bestModel\n",
    "\n",
    "#Make prediction on test set\n",
    "prediction_svm = svm_best.transform(test)"
   ]
  },
  {
   "cell_type": "markdown",
   "metadata": {},
   "source": [
    "## Model Evaluation for Support Vector Machine"
   ]
  },
  {
   "cell_type": "code",
   "execution_count": 55,
   "metadata": {},
   "outputs": [
    {
     "name": "stdout",
     "output_type": "stream",
     "text": [
      "Confusion Matrix:\n",
      "[[6353. 1030.]\n",
      " [ 726.  966.]]\n"
     ]
    }
   ],
   "source": [
    "#confusion matrix\n",
    "\n",
    "labelsAndPreds_svm = prediction_svm[\"label\", \"prediction\"].rdd\n",
    "label_pred_svm = labelsAndPreds_svm.map(lambda p: (float(p.label), float(p.prediction)))\n",
    "matrix_svm = MulticlassMetrics(label_pred_svm)\n",
    "\n",
    "print(\"Confusion Matrix:\\n{}\".format(matrix_svm.confusionMatrix().toArray()))"
   ]
  },
  {
   "cell_type": "code",
   "execution_count": 56,
   "metadata": {},
   "outputs": [],
   "source": [
    "# calculate accuracy, precision, recall, and F1-score\n",
    "TP_svm = prediction_svm.filter('prediction = 1 AND label = prediction').count()\n",
    "TN_svm = prediction_svm.filter('prediction = 0 AND label = prediction').count()\n",
    "FP_svm = prediction_svm.filter('prediction = 1 AND label <> prediction').count()\n",
    "FN_svm = prediction_svm.filter('prediction = 0 AND label <> prediction').count()\n",
    "\n",
    "accuracy_svm = (TN_svm + TP_svm) / (TN_svm + TP_svm + FN_svm + FP_svm)\n",
    "precision_svm = TP_svm / (TP_svm + FP_svm)\n",
    "recall_svm = TP_svm / (TP_svm + FN_svm)\n",
    "F_svm =  2 * ((precision_svm*recall_svm) / (precision_svm + recall_svm))"
   ]
  },
  {
   "cell_type": "code",
   "execution_count": 57,
   "metadata": {},
   "outputs": [
    {
     "name": "stdout",
     "output_type": "stream",
     "text": [
      "accuracy: 0.8065\n",
      "precision: 0.5709\n",
      "recall: 0.4840\n",
      "F1 score: 0.5239\n"
     ]
    }
   ],
   "source": [
    "print(\"accuracy: %.4F\" % accuracy_svm)\n",
    "print(\"precision: %.4F\" % precision_svm)\n",
    "print(\"recall: %.4F\" % recall_svm)\n",
    "print(\"F1 score: %.4F\" % F_svm)"
   ]
  },
  {
   "cell_type": "code",
   "execution_count": 58,
   "metadata": {},
   "outputs": [
    {
     "name": "stdout",
     "output_type": "stream",
     "text": [
      "AUC: 0.7309\n"
     ]
    }
   ],
   "source": [
    "# Calculate AUC\n",
    "eval_svm = BinaryClassificationEvaluator(labelCol=\"label\", rawPredictionCol=\"rawPrediction\")\n",
    "auc_svm = eval_svm.evaluate(prediction_svm, {eval_svm.metricName: \"areaUnderROC\"})\n",
    "print(\"AUC: %.4F\" % auc_svm)"
   ]
  },
  {
   "cell_type": "markdown",
   "metadata": {},
   "source": [
    "# Sensitivity Analysis"
   ]
  },
  {
   "cell_type": "markdown",
   "metadata": {},
   "source": [
    "## Sensitivity Analysis for Benchmark Model"
   ]
  },
  {
   "cell_type": "code",
   "execution_count": 59,
   "metadata": {},
   "outputs": [
    {
     "name": "stdout",
     "output_type": "stream",
     "text": [
      "F1 score when regParam=0.001: 0.3864\n",
      "F1 score when regParam=0.01: 0.3860\n",
      "F1 score when regParam=0.1: 0.3606\n"
     ]
    }
   ],
   "source": [
    "# Change regParam to 0.1 and 0.001\n",
    "bm1 = LogisticRegression(labelCol= \"label\", featuresCol=\"features\", maxIter=10, regParam=0.001)\n",
    "bm2 = LogisticRegression(labelCol= \"label\", featuresCol=\"features\", maxIter=10, regParam=0.1)\n",
    "\n",
    "pipeline_bm1 = Pipeline(stages=[assembler_bm, bm1])\n",
    "pipeline_bm2 = Pipeline(stages=[assembler_bm, bm2])\n",
    "\n",
    "# Fit the pipeline\n",
    "bm_model1 = pipeline_bm1.fit(final_train)\n",
    "bm_model2 = pipeline_bm2.fit(final_train)\n",
    "\n",
    "# Make prediction\n",
    "prediction_bm1 = bm_model1.transform(test)\n",
    "prediction_bm2 = bm_model2.transform(test)\n",
    "\n",
    "# Calculate new F1 score\n",
    "TP_bm1 = prediction_bm1.filter('prediction = 1 AND label = prediction').count()\n",
    "FP_bm1 = prediction_bm1.filter('prediction = 1 AND label <> prediction').count()\n",
    "FN_bm1 = prediction_bm1.filter('prediction = 0 AND label <> prediction').count()\n",
    "\n",
    "TP_bm2 = prediction_bm2.filter('prediction = 1 AND label = prediction').count()\n",
    "FP_bm2 = prediction_bm2.filter('prediction = 1 AND label <> prediction').count()\n",
    "FN_bm2 = prediction_bm2.filter('prediction = 0 AND label <> prediction').count()\n",
    "\n",
    "precision_bm1 = TP_bm1 / (TP_bm1 + FP_bm1)\n",
    "recall_bm1 = TP_bm1 / (TP_bm1 + FN_bm1)\n",
    "F_bm1 =  2 * ((precision_bm1*recall_bm1) / (precision_bm1 + recall_bm1))\n",
    "\n",
    "precision_bm2 = TP_bm2 / (TP_bm2 + FP_bm2)\n",
    "recall_bm2 = TP_bm2 / (TP_bm2 + FN_bm2)\n",
    "F_bm2 =  2 * ((precision_bm2*recall_bm2) / (precision_bm2 + recall_bm2))\n",
    "\n",
    "print(\"F1 score when regParam=0.001: %.4F\" % F_bm1)\n",
    "print(\"F1 score when regParam=0.01: %.4F\" % F_bm)\n",
    "print(\"F1 score when regParam=0.1: %.4F\" % F_bm2)"
   ]
  },
  {
   "cell_type": "markdown",
   "metadata": {},
   "source": [
    "## Sensitivity Analysis for Logistic Regression"
   ]
  },
  {
   "cell_type": "code",
   "execution_count": 60,
   "metadata": {},
   "outputs": [
    {
     "name": "stdout",
     "output_type": "stream",
     "text": [
      "Best elasticNetParam is: 0.0, best fitIntercept is: True, best maxIter is: 100, best regParam is: 0.1\n"
     ]
    }
   ],
   "source": [
    "# Extract best model hyperparameters from the CrossValidator model\n",
    "print('Best elasticNetParam is: %s, best fitIntercept is: %s, best maxIter is: %s, best regParam is: %s' % \n",
    "      (lr_best.stages[-1]._java_obj.getElasticNetParam(),\n",
    "       lr_best.stages[-1]._java_obj.getFitIntercept(),\n",
    "       lr_best.stages[-1]._java_obj.getMaxIter(),\n",
    "       lr_best.stages[-1]._java_obj.getRegParam()))"
   ]
  },
  {
   "cell_type": "code",
   "execution_count": 63,
   "metadata": {},
   "outputs": [
    {
     "name": "stdout",
     "output_type": "stream",
     "text": [
      "F1 score when regParam=0.001: 0.5086\n",
      "F1 score when regParam=0.01: 0.5086\n",
      "F1 score when regParam=0.1: 0.5096\n"
     ]
    }
   ],
   "source": [
    "# Change regParam to 0.01 and 0.001\n",
    "lr1 = LogisticRegression(labelCol= \"label\", featuresCol=\"scaledFeatures\", elasticNetParam=0, fitIntercept=True, maxIter=1000, regParam=0.001)\n",
    "lr2 = LogisticRegression(labelCol= \"label\", featuresCol=\"scaledFeatures\", elasticNetParam=0, fitIntercept=True, maxIter=1000, regParam=0.01)\n",
    "\n",
    "pipeline_lr1 = Pipeline(stages=[assembler_lr, scaler_lr, lr1])\n",
    "pipeline_lr2 = Pipeline(stages=[assembler_lr, scaler_lr, lr2])\n",
    "\n",
    "# Fit the pipeline\n",
    "lr_model1 = pipeline_lr1.fit(final_train)\n",
    "lr_model2 = pipeline_lr2.fit(final_train)\n",
    "\n",
    "# Make prediction\n",
    "prediction_lr1 = lr_model1.transform(test)\n",
    "prediction_lr2 = lr_model2.transform(test)\n",
    "\n",
    "# Calculate new F1 score\n",
    "TP_lr1 = prediction_lr1.filter('prediction = 1 AND label = prediction').count()\n",
    "FP_lr1 = prediction_lr1.filter('prediction = 1 AND label <> prediction').count()\n",
    "FN_lr1 = prediction_lr1.filter('prediction = 0 AND label <> prediction').count()\n",
    "\n",
    "TP_lr2 = prediction_lr2.filter('prediction = 1 AND label = prediction').count()\n",
    "FP_lr2 = prediction_lr2.filter('prediction = 1 AND label <> prediction').count()\n",
    "FN_lr2 = prediction_lr2.filter('prediction = 0 AND label <> prediction').count()\n",
    "\n",
    "precision_lr1 = TP_lr1 / (TP_lr1 + FP_lr1)\n",
    "recall_lr1 = TP_lr1 / (TP_lr1 + FN_lr1)\n",
    "F_lr1 =  2 * ((precision_lr1*recall_lr1) / (precision_lr1 + recall_lr1))\n",
    "\n",
    "precision_lr2 = TP_lr2 / (TP_lr2 + FP_lr2)\n",
    "recall_lr2 = TP_lr2 / (TP_lr2 + FN_lr2)\n",
    "F_lr2 =  2 * ((precision_lr2*recall_lr2) / (precision_lr2 + recall_lr2))\n",
    "\n",
    "print(\"F1 score when regParam=0.001: %.4F\" % F_lr1)\n",
    "print(\"F1 score when regParam=0.01: %.4F\" % F_lr1)\n",
    "print(\"F1 score when regParam=0.1: %.4F\" % F_lr)"
   ]
  },
  {
   "cell_type": "markdown",
   "metadata": {},
   "source": [
    "## Sensitivity Analysis for Decision Tree"
   ]
  },
  {
   "cell_type": "code",
   "execution_count": 69,
   "metadata": {},
   "outputs": [
    {
     "name": "stdout",
     "output_type": "stream",
     "text": [
      "Best maxDepth is: 2, best maxBins is: 20\n"
     ]
    }
   ],
   "source": [
    "# Extract best model hyperparameters from the CrossValidator model\n",
    "print('Best maxDepth is: %s, best maxBins is: %s' % (dt_best.stages[-1]._java_obj.getMaxDepth(),\n",
    "                                                     dt_best.stages[-1]._java_obj.getMaxBins()))"
   ]
  },
  {
   "cell_type": "code",
   "execution_count": 64,
   "metadata": {},
   "outputs": [
    {
     "name": "stdout",
     "output_type": "stream",
     "text": [
      "F1 score when maxDepth=2: 0.5299\n",
      "F1 score when maxDepth=5: 0.5378\n",
      "F1 score when maxDepth=10: 0.5034\n"
     ]
    }
   ],
   "source": [
    "# Change maxDepth to 5 and 8\n",
    "\n",
    "dt1 = DecisionTreeClassifier(labelCol=\"label\", featuresCol=\"features\", maxBins = 5, maxDepth =5, seed = 314)\n",
    "dt2 = DecisionTreeClassifier(labelCol=\"label\", featuresCol=\"features\", maxBins = 5, maxDepth =10, seed = 314)\n",
    "\n",
    "pipeline_dt1 = Pipeline(stages=[assembler_dt,dt1])\n",
    "pipeline_dt2 = Pipeline(stages=[assembler_dt,dt2])\n",
    "\n",
    "# Fit the pipeline\n",
    "dt_model1 = pipeline_dt1.fit(final_train)\n",
    "dt_model2 = pipeline_dt2.fit(final_train)\n",
    "\n",
    "# Make prediction\n",
    "prediction_dt1 = dt_model1.transform(test)\n",
    "prediction_dt2 = dt_model2.transform(test)\n",
    "\n",
    "# Calculate new F1 score\n",
    "TP_dt1 = prediction_dt1.filter('prediction = 1 AND label = prediction').count()\n",
    "FP_dt1 = prediction_dt1.filter('prediction = 1 AND label <> prediction').count()\n",
    "FN_dt1 = prediction_dt1.filter('prediction = 0 AND label <> prediction').count()\n",
    "\n",
    "TP_dt2 = prediction_dt2.filter('prediction = 1 AND label = prediction').count()\n",
    "FP_dt2 = prediction_dt2.filter('prediction = 1 AND label <> prediction').count()\n",
    "FN_dt2 = prediction_dt2.filter('prediction = 0 AND label <> prediction').count()\n",
    "\n",
    "precision_dt1 = TP_dt1 / (TP_dt1 + FP_dt1)\n",
    "recall_dt1 = TP_dt1 / (TP_dt1 + FN_dt1)\n",
    "F1_dt1 =  2 * ((precision_dt1*recall_dt1) / (precision_dt1 + recall_dt1))\n",
    "\n",
    "precision_dt2 = TP_dt2 / (TP_dt2 + FP_dt2)\n",
    "recall_dt2 = TP_dt2 / (TP_dt2 + FN_dt2)\n",
    "F1_dt2 =  2 * ((precision_dt2*recall_dt2) / (precision_dt2 + recall_dt2))\n",
    "\n",
    "print(\"F1 score when maxDepth=2: %.4F\" % F1_dt)\n",
    "print(\"F1 score when maxDepth=5: %.4F\" % F1_dt1)\n",
    "print(\"F1 score when maxDepth=10: %.4F\" % F1_dt2)"
   ]
  },
  {
   "cell_type": "markdown",
   "metadata": {},
   "source": [
    "## Sensitivity Analysis for Random Forest"
   ]
  },
  {
   "cell_type": "code",
   "execution_count": 65,
   "metadata": {},
   "outputs": [
    {
     "name": "stdout",
     "output_type": "stream",
     "text": [
      "Best numTrees is: 100, best maxDepth is: 5, best maxBins is: 10\n"
     ]
    }
   ],
   "source": [
    "# Extract best model hyperparameters from the CrossValidator model\n",
    "print('Best numTrees is: %s, best maxDepth is: %s, best maxBins is: %s' % (rf_best.stages[-1]._java_obj.getNumTrees(),\n",
    "                                                                           rf_best.stages[-1]._java_obj.getMaxDepth(),\n",
    "                                                                           rf_best.stages[-1]._java_obj.getMaxBins()))"
   ]
  },
  {
   "cell_type": "code",
   "execution_count": 66,
   "metadata": {},
   "outputs": [
    {
     "name": "stdout",
     "output_type": "stream",
     "text": [
      "F1 score when maxDepth=2: 0.5401\n",
      "F1 score when maxDepth=5: 0.5456\n",
      "F1 score when maxDepth=10: 0.5507\n"
     ]
    }
   ],
   "source": [
    "# Change maxDepth to 2 and 10\n",
    "rf1 = RandomForestClassifier(labelCol= \"label\", featuresCol=\"features\", numTrees = 300, maxBins = 10, maxDepth = 2, seed = 314)\n",
    "rf2 = RandomForestClassifier(labelCol= \"label\", featuresCol=\"features\", numTrees = 300, maxBins = 10, maxDepth = 10, seed = 314)\n",
    "\n",
    "pipeline_rf1 = Pipeline(stages=[assembler_rf, rf1])\n",
    "pipeline_rf2 = Pipeline(stages=[assembler_rf, rf2])\n",
    "\n",
    "# Fit the pipeline\n",
    "rf_model1 = pipeline_rf1.fit(final_train)\n",
    "rf_model2 = pipeline_rf2.fit(final_train)\n",
    "\n",
    "# Make prediction\n",
    "prediction_rf1 = rf_model1.transform(test)\n",
    "prediction_rf2 = rf_model2.transform(test)\n",
    "\n",
    "# Calculate new F1 score\n",
    "TP_rf1 = prediction_rf1.filter('prediction = 1 AND label = prediction').count()\n",
    "FP_rf1 = prediction_rf1.filter('prediction = 1 AND label <> prediction').count()\n",
    "FN_rf1 = prediction_rf1.filter('prediction = 0 AND label <> prediction').count()\n",
    "\n",
    "TP_rf2 = prediction_rf2.filter('prediction = 1 AND label = prediction').count()\n",
    "FP_rf2 = prediction_rf2.filter('prediction = 1 AND label <> prediction').count()\n",
    "FN_rf2 = prediction_rf2.filter('prediction = 0 AND label <> prediction').count()\n",
    "\n",
    "precision_rf1 = TP_rf1 / (TP_rf1 + FP_rf1)\n",
    "recall_rf1 = TP_rf1 / (TP_rf1 + FN_rf1)\n",
    "F_rf1 =  2 * ((precision_rf1*recall_rf1) / (precision_rf1 + recall_rf1))\n",
    "\n",
    "precision_rf2 = TP_rf2 / (TP_rf2 + FP_rf2)\n",
    "recall_rf2 = TP_rf2 / (TP_rf2 + FN_rf2)\n",
    "F_rf2 =  2 * ((precision_rf2*recall_rf2) / (precision_rf2 + recall_rf2))\n",
    "\n",
    "print(\"F1 score when maxDepth=2: %.4F\" % F_rf1)\n",
    "print(\"F1 score when maxDepth=5: %.4F\" % F_rf)\n",
    "print(\"F1 score when maxDepth=10: %.4F\" % F_rf2)"
   ]
  },
  {
   "cell_type": "markdown",
   "metadata": {},
   "source": [
    "## Sensitivity Analysis for Support Vector Machine"
   ]
  },
  {
   "cell_type": "code",
   "execution_count": 67,
   "metadata": {},
   "outputs": [
    {
     "name": "stdout",
     "output_type": "stream",
     "text": [
      "Best maxIter is: 10, best regParam is: 0.01\n"
     ]
    }
   ],
   "source": [
    "# Extract best model hyperparameters from the CrossValidator model\n",
    "print('Best maxIter is: %s, best regParam is: %s' % (svm_best.stages[-1]._java_obj.getMaxIter(),\n",
    "                                                     svm_best.stages[-1]._java_obj.getRegParam()))"
   ]
  },
  {
   "cell_type": "code",
   "execution_count": 68,
   "metadata": {},
   "outputs": [
    {
     "name": "stdout",
     "output_type": "stream",
     "text": [
      "F1 score when regParam=0.001: 0.5241\n",
      "F1 score when regParam=0.01: 0.5239\n",
      "F1 score when regParam=0.1: 0.5247\n"
     ]
    }
   ],
   "source": [
    "# Change regParam to 0.1 and 0.001\n",
    "svm1 = LinearSVC(labelCol= \"label\", featuresCol=\"scaledFeatures\", maxIter = 10, regParam =0.001)\n",
    "svm2 = LinearSVC(labelCol= \"label\", featuresCol=\"scaledFeatures\", maxIter = 10, regParam =0.1)\n",
    "\n",
    "pipeline_svm1 = Pipeline(stages=[assembler_svm, scaler_svm, svm1])\n",
    "pipeline_svm2 = Pipeline(stages=[assembler_svm, scaler_svm, svm2])\n",
    "\n",
    "# Fit the pipeline\n",
    "svm_model1 = pipeline_svm1.fit(final_train)\n",
    "svm_model2 = pipeline_svm2.fit(final_train)\n",
    "\n",
    "# Make prediction\n",
    "prediction_svm1 = svm_model1.transform(test)\n",
    "prediction_svm2 = svm_model2.transform(test)\n",
    "\n",
    "# Calculate new F1 score\n",
    "TP_svm1 = prediction_svm1.filter('prediction = 1 AND label = prediction').count()\n",
    "FP_svm1 = prediction_svm1.filter('prediction = 1 AND label <> prediction').count()\n",
    "FN_svm1 = prediction_svm1.filter('prediction = 0 AND label <> prediction').count()\n",
    "\n",
    "TP_svm2 = prediction_svm2.filter('prediction = 1 AND label = prediction').count()\n",
    "FP_svm2 = prediction_svm2.filter('prediction = 1 AND label <> prediction').count()\n",
    "FN_svm2 = prediction_svm2.filter('prediction = 0 AND label <> prediction').count()\n",
    "\n",
    "precision_svm1 = TP_svm1 / (TP_svm1 + FP_svm1)\n",
    "recall_svm1 = TP_svm1 / (TP_svm1 + FN_svm1)\n",
    "F_svm1 =  2 * ((precision_svm1*recall_svm1) / (precision_svm1 + recall_svm1))\n",
    "\n",
    "precision_svm2 = TP_svm2 / (TP_svm2 + FP_svm2)\n",
    "recall_svm2 = TP_svm2 / (TP_svm2 + FN_svm2)\n",
    "F_svm2 =  2 * ((precision_svm2*recall_svm2) / (precision_svm2 + recall_svm2))\n",
    "\n",
    "print(\"F1 score when regParam=0.001: %.4F\" % F_svm1)\n",
    "print(\"F1 score when regParam=0.01: %.4F\" % F_svm)\n",
    "print(\"F1 score when regParam=0.1: %.4F\" % F_svm2)"
   ]
  },
  {
   "cell_type": "code",
   "execution_count": null,
   "metadata": {},
   "outputs": [],
   "source": []
  }
 ],
 "metadata": {
  "kernelspec": {
   "display_name": "Python 3",
   "language": "python",
   "name": "python3"
  },
  "language_info": {
   "codemirror_mode": {
    "name": "ipython",
    "version": 3
   },
   "file_extension": ".py",
   "mimetype": "text/x-python",
   "name": "python",
   "nbconvert_exporter": "python",
   "pygments_lexer": "ipython3",
   "version": "3.7.3"
  }
 },
 "nbformat": 4,
 "nbformat_minor": 4
}
