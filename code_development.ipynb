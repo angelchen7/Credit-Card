{
 "cells": [
  {
   "cell_type": "code",
   "execution_count": 76,
   "metadata": {},
   "outputs": [],
   "source": [
    "from pyspark.sql import SparkSession\n",
    "spark= SparkSession.builder.getOrCreate()"
   ]
  },
  {
   "cell_type": "markdown",
   "metadata": {},
   "source": [
    "## Importing the data"
   ]
  },
  {
   "cell_type": "code",
   "execution_count": 77,
   "metadata": {},
   "outputs": [],
   "source": [
    "# reading in the data\n",
    "infile = 'default.csv'\n",
    "df = spark.read.csv(infile, inferSchema=True, header = True)"
   ]
  },
  {
   "cell_type": "code",
   "execution_count": 86,
   "metadata": {},
   "outputs": [
    {
     "name": "stdout",
     "output_type": "stream",
     "text": [
      "root\n",
      " |-- ID: integer (nullable = true)\n",
      " |-- LIMIT_BAL: integer (nullable = true)\n",
      " |-- SEX: integer (nullable = true)\n",
      " |-- EDUCATION: integer (nullable = true)\n",
      " |-- MARRIAGE: integer (nullable = true)\n",
      " |-- AGE: integer (nullable = true)\n",
      " |-- PAY_0: integer (nullable = true)\n",
      " |-- PAY_2: integer (nullable = true)\n",
      " |-- PAY_3: integer (nullable = true)\n",
      " |-- PAY_4: integer (nullable = true)\n",
      " |-- PAY_5: integer (nullable = true)\n",
      " |-- PAY_6: integer (nullable = true)\n",
      " |-- BILL_AMT1: integer (nullable = true)\n",
      " |-- BILL_AMT2: integer (nullable = true)\n",
      " |-- BILL_AMT3: integer (nullable = true)\n",
      " |-- BILL_AMT4: integer (nullable = true)\n",
      " |-- BILL_AMT5: integer (nullable = true)\n",
      " |-- BILL_AMT6: integer (nullable = true)\n",
      " |-- PAY_AMT1: integer (nullable = true)\n",
      " |-- PAY_AMT2: integer (nullable = true)\n",
      " |-- PAY_AMT3: integer (nullable = true)\n",
      " |-- PAY_AMT4: integer (nullable = true)\n",
      " |-- PAY_AMT5: integer (nullable = true)\n",
      " |-- PAY_AMT6: integer (nullable = true)\n",
      " |-- default payment next month: integer (nullable = true)\n",
      "\n"
     ]
    }
   ],
   "source": [
    "df.printSchema()"
   ]
  },
  {
   "cell_type": "markdown",
   "metadata": {},
   "source": [
    "## Data Preprocessing"
   ]
  },
  {
   "cell_type": "code",
   "execution_count": 78,
   "metadata": {},
   "outputs": [
    {
     "name": "stdout",
     "output_type": "stream",
     "text": [
      "rows=30000\n",
      "rows=30000\n"
     ]
    }
   ],
   "source": [
    "from pyspark.sql import functions as F\n",
    "\n",
    "# checking for duplicates in our dataset, there are no duplicates since there are in total, 30000 rows\n",
    "print('rows={}'.format(df.count()))\n",
    "print('rows={}'.format(df.distinct().count()))"
   ]
  },
  {
   "cell_type": "code",
   "execution_count": 79,
   "metadata": {},
   "outputs": [
    {
     "name": "stdout",
     "output_type": "stream",
     "text": [
      "+-------+--------------+--------+--------------+-------------+--------+----------+----------+----------+----------+----------+----------+--------------+--------------+--------------+--------------+--------------+--------------+-------------+-------------+-------------+-------------+-------------+-------------+-------------------------------+\n",
      "|ID_miss|LIMIT_BAL_miss|SEX_miss|EDUCATION_miss|MARRIAGE_miss|AGE_miss|PAY_0_miss|PAY_2_miss|PAY_3_miss|PAY_4_miss|PAY_5_miss|PAY_6_miss|BILL_AMT1_miss|BILL_AMT2_miss|BILL_AMT3_miss|BILL_AMT4_miss|BILL_AMT5_miss|BILL_AMT6_miss|PAY_AMT1_miss|PAY_AMT2_miss|PAY_AMT3_miss|PAY_AMT4_miss|PAY_AMT5_miss|PAY_AMT6_miss|default payment next month_miss|\n",
      "+-------+--------------+--------+--------------+-------------+--------+----------+----------+----------+----------+----------+----------+--------------+--------------+--------------+--------------+--------------+--------------+-------------+-------------+-------------+-------------+-------------+-------------+-------------------------------+\n",
      "|    0.0|           0.0|     0.0|           0.0|          0.0|     0.0|       0.0|       0.0|       0.0|       0.0|       0.0|       0.0|           0.0|           0.0|           0.0|           0.0|           0.0|           0.0|          0.0|          0.0|          0.0|          0.0|          0.0|          0.0|                            0.0|\n",
      "+-------+--------------+--------+--------------+-------------+--------+----------+----------+----------+----------+----------+----------+--------------+--------------+--------------+--------------+--------------+--------------+-------------+-------------+-------------+-------------+-------------+-------------+-------------------------------+\n",
      "\n"
     ]
    }
   ],
   "source": [
    "# checking for missing data, there are no missing data\n",
    "df.agg(*[\n",
    "    (1 - F.count(c) / F.count('*')).alias(c + '_miss')\n",
    "    for c in df.columns\n",
    "]).show()"
   ]
  },
  {
   "cell_type": "code",
   "execution_count": 80,
   "metadata": {},
   "outputs": [
    {
     "data": {
      "text/plain": [
       "{'LIMIT_BAL': [-180000.0, 460000.0],\n",
       " 'AGE': [10.0, 58.0],\n",
       " 'PAY_0': [-2.5, 1.5],\n",
       " 'PAY_2': [-2.5, 1.5],\n",
       " 'PAY_3': [-2.5, 1.5],\n",
       " 'PAY_4': [-2.5, 1.5],\n",
       " 'PAY_5': [-2.5, 1.5],\n",
       " 'PAY_6': [-2.5, 1.5],\n",
       " 'BILL_AMT1': [-75367.0, 136417.0],\n",
       " 'BILL_AMT2': [-71850.0, 129038.0],\n",
       " 'BILL_AMT3': [-68126.5, 122125.5],\n",
       " 'BILL_AMT4': [-65346.5, 116137.5],\n",
       " 'BILL_AMT5': [-61606.5, 108317.5],\n",
       " 'BILL_AMT6': [-60093.0, 104155.0],\n",
       " 'PAY_AMT1': [-4478.0, 10138.0],\n",
       " 'PAY_AMT2': [-4118.0, 9530.0],\n",
       " 'PAY_AMT3': [-4738.5, 9217.5],\n",
       " 'PAY_AMT4': [-4410.0, 8246.0],\n",
       " 'PAY_AMT5': [-4437.5, 8262.5],\n",
       " 'PAY_AMT6': [-4697.5, 8418.5]}"
      ]
     },
     "execution_count": 80,
     "metadata": {},
     "output_type": "execute_result"
    }
   ],
   "source": [
    "# checking for outliers\n",
    "\n",
    "# excluding categorical features and the response\n",
    "cols = [c for c in df.columns if c != 'ID' and c != 'default payment next month' and c!= 'SEX' and c != 'EDUCATION' and c!= 'MARRIAGE'] \n",
    "bnds = {} # storing the lower and upper bounds for each feature\n",
    "for col in cols:\n",
    "    quantiles = df.approxQuantile(col, [0.25, 0.75], 0.05) #tolerance is 0.05\n",
    "    IQR = quantiles[1] - quantiles[0]\n",
    "\n",
    "    bnds[col] = [\n",
    "     quantiles[0] - 1.5 * IQR,\n",
    "     quantiles[1] + 1.5 * IQR\n",
    "    ]\n",
    "bnds"
   ]
  },
  {
   "cell_type": "code",
   "execution_count": 97,
   "metadata": {},
   "outputs": [
    {
     "name": "stdout",
     "output_type": "stream",
     "text": [
      "+---+--------------------------+---+---------+--------+-----------------+-----------+-------------+-------------+-------------+-------------+-------------+-------------+-----------------+-----------------+-----------------+-----------------+-----------------+-----------------+----------------+----------------+----------------+----------------+----------------+----------------+\n",
      "| id|default payment next month|SEX|EDUCATION|MARRIAGE|LIMIT_BAL_outlier|AGE_outlier|PAY_0_outlier|PAY_2_outlier|PAY_3_outlier|PAY_4_outlier|PAY_5_outlier|PAY_6_outlier|BILL_AMT1_outlier|BILL_AMT2_outlier|BILL_AMT3_outlier|BILL_AMT4_outlier|BILL_AMT5_outlier|BILL_AMT6_outlier|PAY_AMT1_outlier|PAY_AMT2_outlier|PAY_AMT3_outlier|PAY_AMT4_outlier|PAY_AMT5_outlier|PAY_AMT6_outlier|\n",
      "+---+--------------------------+---+---------+--------+-----------------+-----------+-------------+-------------+-------------+-------------+-------------+-------------+-----------------+-----------------+-----------------+-----------------+-----------------+-----------------+----------------+----------------+----------------+----------------+----------------+----------------+\n",
      "|  1|                         1|  2|        2|       1|            false|      false|         true|         true|        false|        false|        false|        false|            false|            false|            false|            false|            false|            false|           false|           false|           false|           false|           false|           false|\n",
      "+---+--------------------------+---+---------+--------+-----------------+-----------+-------------+-------------+-------------+-------------+-------------+-------------+-----------------+-----------------+-----------------+-----------------+-----------------+-----------------+----------------+----------------+----------------+----------------+----------------+----------------+\n",
      "only showing top 1 row\n",
      "\n"
     ]
    },
    {
     "data": {
      "text/plain": [
       "18052"
      ]
     },
     "execution_count": 97,
     "metadata": {},
     "output_type": "execute_result"
    }
   ],
   "source": [
    "# appending the outlier indicators to the dataframe\n",
    "outliers = df.select(*['id', 'default payment next month', 'SEX', 'EDUCATION', 'MARRIAGE'] + [\n",
    " (\n",
    " (df[c] < bnds[c][0]) | (df[c] > bnds[c][1]))\n",
    "    .alias(c + '_outlier') for c in cols\n",
    "])\n",
    "\n",
    "outliers.show(1)\n",
    "\n",
    "# filtering the rows of the non-categorical features where there are outliers\n",
    "outliers.filter((outliers[5] == 'true') | (outliers[6] == 'true') |\\\n",
    "               (outliers[7] == 'true') | (outliers[8] == 'true') |\\\n",
    "               (outliers[9] == 'true') | (outliers[10] == 'true') |\\\n",
    "               (outliers[11] == 'true') | (outliers[12] == 'true') |\\\n",
    "               (outliers[13] == 'true') | (outliers[14] == 'true') |\\\n",
    "               (outliers[15] == 'true') | (outliers[16] == 'true') | \\\n",
    "               (outliers[17] == 'true') | (outliers[18] == 'true') |\\\n",
    "               (outliers[19] == 'true') | (outliers[20] == 'true') |\\\n",
    "               (outliers[21] == 'true') | (outliers[22] == 'true') |\\\n",
    "               (outliers[23] == 'true') | (outliers[24] == 'true')).count()"
   ]
  },
  {
   "cell_type": "markdown",
   "metadata": {},
   "source": [
    "Since over half of the dataset contains outliers, maybe it is best to not remove any outliers"
   ]
  },
  {
   "cell_type": "code",
   "execution_count": 98,
   "metadata": {},
   "outputs": [
    {
     "name": "stdout",
     "output_type": "stream",
     "text": [
      "+---+---------+---+---------+--------+---+-----+-----+-----+-----+-----+-----+---------+---------+---------+---------+---------+---------+--------+--------+--------+--------+--------+--------+--------------------------+--------------------+\n",
      "| ID|LIMIT_BAL|SEX|EDUCATION|MARRIAGE|AGE|PAY_0|PAY_2|PAY_3|PAY_4|PAY_5|PAY_6|BILL_AMT1|BILL_AMT2|BILL_AMT3|BILL_AMT4|BILL_AMT5|BILL_AMT6|PAY_AMT1|PAY_AMT2|PAY_AMT3|PAY_AMT4|PAY_AMT5|PAY_AMT6|default payment next month|            features|\n",
      "+---+---------+---+---------+--------+---+-----+-----+-----+-----+-----+-----+---------+---------+---------+---------+---------+---------+--------+--------+--------+--------+--------+--------+--------------------------+--------------------+\n",
      "|  1|    20000|  2|        2|       1| 24|    2|    2|   -1|   -1|   -2|   -2|     3913|     3102|      689|        0|        0|        0|       0|     689|       0|       0|       0|       0|                         1|[20000.0,2.0,2.0,...|\n",
      "+---+---------+---+---------+--------+---+-----+-----+-----+-----+-----+-----+---------+---------+---------+---------+---------+---------+--------+--------+--------+--------+--------+--------+--------------------------+--------------------+\n",
      "only showing top 1 row\n",
      "\n",
      "+-----+----------------------------------------------------------------------------------------------------------------+\n",
      "|label|features                                                                                                        |\n",
      "+-----+----------------------------------------------------------------------------------------------------------------+\n",
      "|1    |[20000.0,2.0,2.0,1.0,24.0,2.0,2.0,-1.0,-1.0,-2.0,-2.0,3913.0,3102.0,689.0,0.0,0.0,0.0,0.0,689.0,0.0,0.0,0.0,0.0]|\n",
      "+-----+----------------------------------------------------------------------------------------------------------------+\n",
      "only showing top 1 row\n",
      "\n"
     ]
    }
   ],
   "source": [
    "# assembling the features together into one vector\n",
    "\n",
    "from pyspark.ml.feature import StandardScaler\n",
    "from pyspark.ml.feature import VectorAssembler\n",
    "\n",
    "assembler = VectorAssembler(inputCols=df.columns[1:-1], outputCol=\"features\") \n",
    "transformed = assembler.transform(df)\n",
    "transformed.show(1)\n",
    "\n",
    "df2 = transformed.drop('ID','LIMIT_BAL','SEX',\n",
    "                       'EDUCATION','MARRIAGE','AGE',\n",
    "                       'PAY_0','PAY_2','PAY_3',\n",
    "                       'PAY_4','PAY_5','PAY_6',\n",
    "                       'BILL_AMT1','BILL_AMT2','BILL_AMT3',\n",
    "                       'BILL_AMT4','BILL_AMT5','BILL_AMT6',\n",
    "                       'PAY_AMT1','PAY_AMT2','PAY_AMT3',\n",
    "                       'PAY_AMT4','PAY_AMT5','PAY_AMT6')\\\n",
    " .withColumnRenamed(\"default payment next month\", \"label\")\n",
    "\n",
    "df2.show(1, False)"
   ]
  },
  {
   "cell_type": "code",
   "execution_count": 96,
   "metadata": {},
   "outputs": [
    {
     "name": "stdout",
     "output_type": "stream",
     "text": [
      "+-----+---------------------------------------------------------------------------------------------------------------------------------------------------------------------------------------------------------------------------------------------------------------------------------------------------------------------------------------+\n",
      "|label|features                                                                                                                                                                                                                                                                                                                               |\n",
      "+-----+---------------------------------------------------------------------------------------------------------------------------------------------------------------------------------------------------------------------------------------------------------------------------------------------------------------------------------------+\n",
      "|1    |[0.15414535998894324,4.088899243771445,2.5305287424751266,1.9158203826911118,2.603628744963987,1.7796736791807803,1.6705842242124869,-0.8355143261989371,-0.8553305663148897,-1.7649331341008119,-1.7391491486204211,0.053139869207970765,0.0435834725779124,0.009935199510232218,0.0,0.0,0.0,0.0,0.029903384202815683,0.0,0.0,0.0,0.0]|\n",
      "+-----+---------------------------------------------------------------------------------------------------------------------------------------------------------------------------------------------------------------------------------------------------------------------------------------------------------------------------------------+\n",
      "only showing top 1 row\n",
      "\n"
     ]
    }
   ],
   "source": [
    "# feature scaling\n",
    "\n",
    "standardScaler = StandardScaler(inputCol=\"features\", outputCol=\"features_scaled\", \n",
    "                                withStd=True, withMean=False)\n",
    "\n",
    "scaler = standardScaler.fit(df2)\n",
    "\n",
    "scaled_df = scaler.transform(df2)\n",
    "\n",
    "# selecting our final dataframe, where the column of scaled features has been renamed into 'features'\n",
    "final_df = scaled_df.select(\"label\", \"features_scaled\")\\\n",
    "                    .withColumnRenamed(\"features_scaled\", \"features\")\n",
    "final_df.show(1, False)"
   ]
  },
  {
   "cell_type": "code",
   "execution_count": null,
   "metadata": {},
   "outputs": [],
   "source": []
  }
 ],
 "metadata": {
  "kernelspec": {
   "display_name": "Python 3",
   "language": "python",
   "name": "python3"
  },
  "language_info": {
   "codemirror_mode": {
    "name": "ipython",
    "version": 3
   },
   "file_extension": ".py",
   "mimetype": "text/x-python",
   "name": "python",
   "nbconvert_exporter": "python",
   "pygments_lexer": "ipython3",
   "version": "3.7.3"
  }
 },
 "nbformat": 4,
 "nbformat_minor": 4
}
