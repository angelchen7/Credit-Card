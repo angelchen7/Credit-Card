{
 "cells": [
  {
   "cell_type": "code",
   "execution_count": 1,
   "metadata": {},
   "outputs": [],
   "source": [
    "from pyspark.sql import SparkSession\n",
    "spark= SparkSession.builder.getOrCreate()"
   ]
  },
  {
   "cell_type": "code",
   "execution_count": 2,
   "metadata": {},
   "outputs": [],
   "source": [
    "# reading in the data\n",
    "infile = 'default.csv'\n",
    "df = spark.read.csv(infile, inferSchema=True, header = True)"
   ]
  },
  {
   "cell_type": "code",
   "execution_count": 3,
   "metadata": {},
   "outputs": [
    {
     "name": "stdout",
     "output_type": "stream",
     "text": [
      "root\n",
      " |-- ID: integer (nullable = true)\n",
      " |-- LIMIT_BAL: integer (nullable = true)\n",
      " |-- SEX: integer (nullable = true)\n",
      " |-- EDUCATION: integer (nullable = true)\n",
      " |-- MARRIAGE: integer (nullable = true)\n",
      " |-- AGE: integer (nullable = true)\n",
      " |-- PAY_0: integer (nullable = true)\n",
      " |-- PAY_2: integer (nullable = true)\n",
      " |-- PAY_3: integer (nullable = true)\n",
      " |-- PAY_4: integer (nullable = true)\n",
      " |-- PAY_5: integer (nullable = true)\n",
      " |-- PAY_6: integer (nullable = true)\n",
      " |-- BILL_AMT1: integer (nullable = true)\n",
      " |-- BILL_AMT2: integer (nullable = true)\n",
      " |-- BILL_AMT3: integer (nullable = true)\n",
      " |-- BILL_AMT4: integer (nullable = true)\n",
      " |-- BILL_AMT5: integer (nullable = true)\n",
      " |-- BILL_AMT6: integer (nullable = true)\n",
      " |-- PAY_AMT1: integer (nullable = true)\n",
      " |-- PAY_AMT2: integer (nullable = true)\n",
      " |-- PAY_AMT3: integer (nullable = true)\n",
      " |-- PAY_AMT4: integer (nullable = true)\n",
      " |-- PAY_AMT5: integer (nullable = true)\n",
      " |-- PAY_AMT6: integer (nullable = true)\n",
      " |-- default payment next month: integer (nullable = true)\n",
      "\n"
     ]
    },
    {
     "data": {
      "text/plain": [
       "pyspark.sql.dataframe.DataFrame"
      ]
     },
     "execution_count": 3,
     "metadata": {},
     "output_type": "execute_result"
    }
   ],
   "source": [
    "df.printSchema()\n",
    "type(df)"
   ]
  },
  {
   "cell_type": "code",
   "execution_count": 4,
   "metadata": {},
   "outputs": [
    {
     "data": {
      "text/plain": [
       "pyspark.sql.dataframe.DataFrame"
      ]
     },
     "execution_count": 4,
     "metadata": {},
     "output_type": "execute_result"
    }
   ],
   "source": [
    "# rename response variable as \"label\" for easier using\n",
    "df2 = df.withColumnRenamed(\"default payment next month\", \"label\")\n",
    "type(df2)"
   ]
  },
  {
   "cell_type": "code",
   "execution_count": 5,
   "metadata": {},
   "outputs": [
    {
     "name": "stdout",
     "output_type": "stream",
     "text": [
      "+-----+-----+\n",
      "|label|count|\n",
      "+-----+-----+\n",
      "|    1| 6636|\n",
      "|    0|23364|\n",
      "+-----+-----+\n",
      "\n"
     ]
    },
    {
     "data": {
      "image/png": "[encoded data removed]",
      "text/plain": [
       "<Figure size 425x425 with 1 Axes>"
      ]
     },
     "metadata": {},
     "output_type": "display_data"
    }
   ],
   "source": [
    "#check the distribution of the response variable, we found that the data is highly imbalanced\n",
    "\n",
    "default0 = df2.filter(df2['label'] == 0).count()\n",
    "default1 = df2.filter(df2['label'] == 1).count()\n",
    "default_ls = [default0,default1]\n",
    "default_lablel = [\"default = 0\", \"default = 1\"]\n",
    "df2.groupBy('label').count().show()\n",
    "import matplotlib as mpl\n",
    "import matplotlib.pyplot as plt\n",
    "mpl.rcParams['figure.dpi']= 170\n",
    "\n",
    "fig = plt.figure(figsize=(2.5,2.5))\n",
    "plt.pie(default_ls, labels=default_lablel, autopct = '%.2f%%')\n",
    "plt.show()"
   ]
  },
  {
   "cell_type": "markdown",
   "metadata": {},
   "source": [
    "## Data Splitting"
   ]
  },
  {
   "cell_type": "code",
   "execution_count": 6,
   "metadata": {},
   "outputs": [
    {
     "name": "stdout",
     "output_type": "stream",
     "text": [
      "+------------+-----+\n",
      "|    Datasets|Count|\n",
      "+------------+-----+\n",
      "|Training set|20925|\n",
      "|    Test set| 9075|\n",
      "|    Raw data|30000|\n",
      "+------------+-----+\n",
      "\n"
     ]
    }
   ],
   "source": [
    "#Split data into train set (70%), test set (30%) using seed=314\n",
    "training, test = df2.randomSplit([0.7, 0.3], seed=314)\n",
    "\n",
    "#Count records in datasets\n",
    "train_count = training.count()\n",
    "test_count = test.count()\n",
    "raw_count = df2.count()\n",
    "records_count = spark.createDataFrame([\n",
    "    ('Training set', train_count),\n",
    "    ('Test set', test_count),\n",
    "    ('Raw data', raw_count),\n",
    "], [\"Datasets\", \"Count\"])\n",
    "\n",
    "records_count.show()"
   ]
  },
  {
   "cell_type": "code",
   "execution_count": 7,
   "metadata": {},
   "outputs": [],
   "source": [
    "#Balance the data using oversampling method. Do this on train set only. \n",
    "\n",
    "from pyspark.sql.functions import col, explode, array, lit\n",
    "\n",
    "major_train = training.filter(col('label') == 0)\n",
    "minor_train = training.filter(col('label') == 1)\n",
    "ratio = int(major_train.count()/minor_train.count())\n",
    "ratio_range = range(ratio)\n",
    "\n",
    "oversampled_train = minor_train.withColumn(\"dummy\", explode(array([lit(x) for x in ratio_range]))).drop('dummy')\n",
    "\n",
    "final_train = major_train.unionAll(oversampled_train)"
   ]
  },
  {
   "cell_type": "code",
   "execution_count": 8,
   "metadata": {},
   "outputs": [
    {
     "name": "stdout",
     "output_type": "stream",
     "text": [
      "+-----+-----+\n",
      "|label|count|\n",
      "+-----+-----+\n",
      "|    1| 4640|\n",
      "|    0|16285|\n",
      "+-----+-----+\n",
      "\n"
     ]
    },
    {
     "data": {
      "image/png": "[encoded data removed]",
      "text/plain": [
       "<Figure size 425x425 with 1 Axes>"
      ]
     },
     "metadata": {},
     "output_type": "display_data"
    }
   ],
   "source": [
    "#check the distribution of the response variable for training set (before oversampling)\n",
    "train0 = training.filter(training['label'] == 0).count()\n",
    "train1 = training.filter(training['label'] == 1).count()\n",
    "train_ls = [train0,train1]\n",
    "train_lablel = [\"default = 0\", \"default = 1\"]\n",
    "training.groupBy('label').count().show()\n",
    "\n",
    "# plot pie chart\n",
    "fig = plt.figure(figsize=(2.5,2.5))\n",
    "plt.pie(train_ls, labels=train_lablel, autopct = '%.2f%%')\n",
    "plt.title(\"before oversampling\", fontsize=10)\n",
    "plt.show()"
   ]
  },
  {
   "cell_type": "code",
   "execution_count": 9,
   "metadata": {},
   "outputs": [
    {
     "name": "stdout",
     "output_type": "stream",
     "text": [
      "+-----+-----+\n",
      "|label|count|\n",
      "+-----+-----+\n",
      "|    1|13920|\n",
      "|    0|16285|\n",
      "+-----+-----+\n",
      "\n"
     ]
    },
    {
     "data": {
      "image/png": "[encoded data removed]",
      "text/plain": [
       "<Figure size 425x425 with 1 Axes>"
      ]
     },
     "metadata": {},
     "output_type": "display_data"
    }
   ],
   "source": [
    "#check the distribution of the response variable for training set (after oversampling)\n",
    "final_train0 = final_train.filter(final_train['label'] == 0).count()\n",
    "final_train1 = final_train.filter(final_train['label'] == 1).count()\n",
    "finalTrain_ls = [final_train0,final_train1]\n",
    "finalTrain_label = [\"default = 0\", \"default = 1\"]\n",
    "final_train.groupBy('label').count().show()\n",
    "\n",
    "# plot pie chart\n",
    "fig = plt.figure(figsize=(2.5,2.5))\n",
    "plt.pie(finalTrain_ls, labels=finalTrain_label, autopct = '%.2f%%')\n",
    "plt.title(\"after oversampling\", fontsize=10)\n",
    "plt.show()"
   ]
  },
  {
   "cell_type": "code",
   "execution_count": 10,
   "metadata": {},
   "outputs": [
    {
     "data": {
      "text/plain": [
       "7079"
      ]
     },
     "execution_count": 10,
     "metadata": {},
     "output_type": "execute_result"
    }
   ],
   "source": [
    "test.filter(test['label'] == 0).count()"
   ]
  },
  {
   "cell_type": "markdown",
   "metadata": {},
   "source": [
    "## Logistic Regression"
   ]
  },
  {
   "cell_type": "code",
   "execution_count": 14,
   "metadata": {},
   "outputs": [],
   "source": [
    "from pyspark.ml.classification import LogisticRegression\n",
    "from pyspark.ml.feature import StandardScaler\n",
    "from pyspark.ml import Pipeline  \n",
    "from pyspark.ml.feature import VectorAssembler\n",
    "from pyspark.ml.evaluation import BinaryClassificationEvaluator\n",
    "from pyspark.ml.tuning import CrossValidator, ParamGridBuilder\n",
    "\n",
    "\n",
    "# Build model using pipline\n",
    "\n",
    "# assembling the features together into one vector (removing ID which is not an important variable)\n",
    "assembler_lr2 = VectorAssembler(inputCols = ['LIMIT_BAL','SEX',\n",
    "                       'EDUCATION','MARRIAGE','AGE',\n",
    "                       'PAY_0','PAY_2','PAY_3',\n",
    "                       'PAY_4','PAY_5','PAY_6',\n",
    "                       'BILL_AMT1','BILL_AMT2','BILL_AMT3',\n",
    "                       'BILL_AMT4','BILL_AMT5','BILL_AMT6',\n",
    "                       'PAY_AMT1','PAY_AMT2','PAY_AMT3',\n",
    "                       'PAY_AMT4','PAY_AMT5','PAY_AMT6'], outputCol=\"unscaled_features\")\n",
    "\n",
    "# Scale features\n",
    "scaler_lr2 = StandardScaler(inputCol=\"unscaled_features\", outputCol=\"scaledFeatures\")\n",
    "\n",
    "# Create an Logistic Regression model.\n",
    "lr2 = LogisticRegression(labelCol= \"label\", featuresCol=\"scaledFeatures\")\n",
    "\n",
    "pipeline_lr2 = Pipeline(stages=[assembler_lr2, scaler_lr2, lr2])\n",
    "\n",
    "# Set up the parameter grid\n",
    "lr2_paramGrid = ParamGridBuilder()\\\n",
    "    .addGrid(lr2.elasticNetParam,[0.0, 0.5, 1.0])\\\n",
    "    .addGrid(lr2.fitIntercept,[False, True])\\\n",
    "    .addGrid(lr2.maxIter,[10, 100, 1000])\\\n",
    "    .addGrid(lr2.regParam,[0.1, 0.5, 1.0, 2.0]) \\\n",
    "    .build()\n",
    "\n",
    "# Create 10-fold CrossValidator\n",
    "lr2_cv = CrossValidator(estimator = pipeline_lr2,\n",
    "                      estimatorParamMaps = lr2_paramGrid,\n",
    "                      evaluator = BinaryClassificationEvaluator(),\n",
    "                      numFolds = 10,\n",
    "                      seed = 314)"
   ]
  },
  {
   "cell_type": "code",
   "execution_count": 15,
   "metadata": {},
   "outputs": [],
   "source": [
    "# Run cross-validation, and choose the best set of parameters.\n",
    "cv_lr2Model = lr2_cv.fit(final_train)"
   ]
  },
  {
   "cell_type": "code",
   "execution_count": 16,
   "metadata": {},
   "outputs": [],
   "source": [
    "# select the best model found by cv\n",
    "lr2_best = cv_lr2Model.bestModel\n",
    "\n",
    "#Make prediction on test set\n",
    "prediction_lr2 = lr2_best.transform(test)"
   ]
  },
  {
   "cell_type": "markdown",
   "metadata": {},
   "source": [
    "## Model Evaluation - Logistic Regression"
   ]
  },
  {
   "cell_type": "code",
   "execution_count": 18,
   "metadata": {},
   "outputs": [
    {
     "name": "stdout",
     "output_type": "stream",
     "text": [
      "Confusion Matrix:\n",
      "[[5928.  920.]\n",
      " [1151. 1076.]]\n"
     ]
    }
   ],
   "source": [
    "#confusion matrix\n",
    "from pyspark.mllib.evaluation import MulticlassMetrics\n",
    "\n",
    "labelsAndPreds_lr2 = prediction_lr2[\"label\", \"prediction\"].rdd\n",
    "label_pred_lr2 = labelsAndPreds_lr2.map(lambda p: (float(p.label), float(p.prediction)))\n",
    "matrix_lr2 = MulticlassMetrics(label_pred_lr2)\n",
    "\n",
    "print(\"Confusion Matrix:\\n{}\".format(matrix_lr2.confusionMatrix().toArray()))"
   ]
  },
  {
   "cell_type": "code",
   "execution_count": 19,
   "metadata": {},
   "outputs": [],
   "source": [
    "# calculate accuracy, precision, recall, and F1-score\n",
    "TP_lr2 = prediction_lr2.filter('prediction = 1 AND label = prediction').count()\n",
    "TN_lr2 = prediction_lr2.filter('prediction = 0 AND label = prediction').count()\n",
    "FP_lr2 = prediction_lr2.filter('prediction = 1 AND label <> prediction').count()\n",
    "FN_lr2 = prediction_lr2.filter('prediction = 0 AND label <> prediction').count()\n",
    "\n",
    "accuracy_lr2 = (TN_lr2 + TP_lr2) / (TN_lr2 + TP_lr2 + FN_lr2 + FP_lr2)\n",
    "precision_lr2 = TP_lr2 / (TP_lr2 + FP_lr2)\n",
    "recall_lr2 = TP_lr2 / (TP_lr2 + FN_lr2)\n",
    "F_lr2 =  2 * ((precision_lr2*recall_lr2) / (precision_lr2 + recall_lr2))"
   ]
  },
  {
   "cell_type": "code",
   "execution_count": 20,
   "metadata": {},
   "outputs": [
    {
     "name": "stdout",
     "output_type": "stream",
     "text": [
      "accuracy: 0.7718\n",
      "precision: 0.4832\n",
      "recall: 0.5391\n",
      "F1 score: 0.5096\n"
     ]
    }
   ],
   "source": [
    "print(\"accuracy: %.4F\" % accuracy_lr2)\n",
    "print(\"precision: %.4F\" % precision_lr2)\n",
    "print(\"recall: %.4F\" % recall_lr2)\n",
    "print(\"F1 score: %.4F\" % F_lr2)"
   ]
  },
  {
   "cell_type": "code",
   "execution_count": 21,
   "metadata": {},
   "outputs": [
    {
     "name": "stdout",
     "output_type": "stream",
     "text": [
      "AUC: 0.7254\n"
     ]
    }
   ],
   "source": [
    "# Calculate AUC\n",
    "eval_lr2 = BinaryClassificationEvaluator(labelCol=\"label\", rawPredictionCol=\"rawPrediction\")\n",
    "auc_lr2 = eval_lr2.evaluate(prediction_lr2, {eval_lr2.metricName: \"areaUnderROC\"})\n",
    "print(\"AUC: %.4F\" % auc_lr2)"
   ]
  },
  {
   "cell_type": "code",
   "execution_count": null,
   "metadata": {},
   "outputs": [],
   "source": []
  }
 ],
 "metadata": {
  "kernelspec": {
   "display_name": "Python 3",
   "language": "python",
   "name": "python3"
  },
  "language_info": {
   "codemirror_mode": {
    "name": "ipython",
    "version": 3
   },
   "file_extension": ".py",
   "mimetype": "text/x-python",
   "name": "python",
   "nbconvert_exporter": "python",
   "pygments_lexer": "ipython3",
   "version": "3.7.3"
  }
 },
 "nbformat": 4,
 "nbformat_minor": 4
}
