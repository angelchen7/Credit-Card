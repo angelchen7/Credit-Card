{
 "cells": [
  {
   "cell_type": "code",
   "execution_count": 25,
   "metadata": {},
   "outputs": [],
   "source": [
    "import pandas as pd\n",
    "from pyspark.sql import SparkSession\n",
    "spark= SparkSession.builder.getOrCreate()\n",
    "# read in the data\n",
    "infile = 'default.csv'\n",
    "df = spark.read.csv(infile, inferSchema=True, header = True)"
   ]
  },
  {
   "cell_type": "code",
   "execution_count": 3,
   "metadata": {},
   "outputs": [],
   "source": [
    "default_no = df.filter(df['default payment next month'] == 0)\n",
    "default_yes = df.filter(df['default payment next month'] == 1)"
   ]
  },
  {
   "cell_type": "code",
   "execution_count": 21,
   "metadata": {},
   "outputs": [],
   "source": [
    "ct_no = default_no.groupby('LIMIT_BAL').count()"
   ]
  },
  {
   "cell_type": "code",
   "execution_count": 17,
   "metadata": {},
   "outputs": [
    {
     "name": "stdout",
     "output_type": "stream",
     "text": [
      "+---------+-----+\n",
      "|LIMIT_BAL|count|\n",
      "+---------+-----+\n",
      "|    10000|  296|\n",
      "|    16000|    2|\n",
      "|    20000| 1278|\n",
      "|    30000| 1042|\n",
      "|    40000|  138|\n",
      "|    50000| 2480|\n",
      "|    60000|  592|\n",
      "|    70000|  521|\n",
      "|    80000| 1204|\n",
      "|    90000|  485|\n",
      "|   100000|  776|\n",
      "|   110000|  456|\n",
      "|   120000|  547|\n",
      "|   130000|  572|\n",
      "|   140000|  579|\n",
      "|   150000|  923|\n",
      "|   160000|  557|\n",
      "|   170000|  454|\n",
      "|   180000|  819|\n",
      "|   190000|  180|\n",
      "+---------+-----+\n",
      "only showing top 20 rows\n",
      "\n"
     ]
    }
   ],
   "source": [
    "ct_no.sort('LIMIT_BAL').show()"
   ]
  },
  {
   "cell_type": "code",
   "execution_count": 18,
   "metadata": {},
   "outputs": [],
   "source": [
    "ct_yes = default_yes.groupby('LIMIT_BAL').count()"
   ]
  },
  {
   "cell_type": "code",
   "execution_count": 46,
   "metadata": {},
   "outputs": [
    {
     "name": "stdout",
     "output_type": "stream",
     "text": [
      "+---------+-----+\n",
      "|LIMIT_BAL|count|\n",
      "+---------+-----+\n",
      "|    10000|  197|\n",
      "|    20000|  698|\n",
      "|    30000|  568|\n",
      "|    40000|   92|\n",
      "|    50000|  885|\n",
      "|    60000|  233|\n",
      "|    70000|  210|\n",
      "|    80000|  363|\n",
      "|    90000|  166|\n",
      "|   100000|  272|\n",
      "|   110000|  132|\n",
      "|   120000|  179|\n",
      "|   130000|  157|\n",
      "|   140000|  170|\n",
      "|   150000|  187|\n",
      "|   160000|  137|\n",
      "|   170000|   78|\n",
      "|   180000|  176|\n",
      "|   190000|   49|\n",
      "|   200000|  270|\n",
      "+---------+-----+\n",
      "only showing top 20 rows\n",
      "\n"
     ]
    }
   ],
   "source": [
    "ct_yes.sort('LIMIT_BAL').show()"
   ]
  },
  {
   "cell_type": "code",
   "execution_count": 60,
   "metadata": {},
   "outputs": [
    {
     "data": {
      "text/plain": [
       "0      1.0\n",
       "1      2.0\n",
       "2      3.0\n",
       "3      4.0\n",
       "4      5.0\n",
       "      ... \n",
       "60    63.0\n",
       "61    68.0\n",
       "62    71.0\n",
       "63    72.0\n",
       "64    74.0\n",
       "Name: LIMIT_BAL, Length: 65, dtype: float64"
      ]
     },
     "execution_count": 60,
     "metadata": {},
     "output_type": "execute_result"
    }
   ],
   "source": [
    "ct_yes_pd=ct_yes.sort('LIMIT_BAL').toPandas()\n",
    "ct_yes_pd['LIMIT_BAL']=ct_yes_pd['LIMIT_BAL']/10000\n",
    "ct_yes_pd['LIMIT_BAL'].round()"
   ]
  },
  {
   "cell_type": "code",
   "execution_count": 58,
   "metadata": {},
   "outputs": [
    {
     "data": {
      "text/plain": [
       "<matplotlib.axes._subplots.AxesSubplot at 0x7f2ebd7d46d8>"
      ]
     },
     "execution_count": 58,
     "metadata": {},
     "output_type": "execute_result"
    },
    {
     "data": {
      "image/png": "[encoded data removed]",
      "text/plain": [
       "<Figure size 432x288 with 1 Axes>"
      ]
     },
     "metadata": {
      "needs_background": "light"
     },
     "output_type": "display_data"
    }
   ],
   "source": [
    "ct_yes_pd.plot.bar(x='LIMIT_BAL',y='count',color='red',title='Credit Default Next Month Count vs Limited Balance in $10,000')"
   ]
  },
  {
   "cell_type": "code",
   "execution_count": 61,
   "metadata": {},
   "outputs": [
    {
     "data": {
      "text/plain": [
       "0       1.0\n",
       "1       2.0\n",
       "2       2.0\n",
       "3       3.0\n",
       "4       4.0\n",
       "      ...  \n",
       "75     75.0\n",
       "76     76.0\n",
       "77     78.0\n",
       "78     80.0\n",
       "79    100.0\n",
       "Name: LIMIT_BAL, Length: 80, dtype: float64"
      ]
     },
     "execution_count": 61,
     "metadata": {},
     "output_type": "execute_result"
    }
   ],
   "source": [
    "ct_no_pd=ct_no.sort('LIMIT_BAL').toPandas()\n",
    "ct_no_pd['LIMIT_BAL']=ct_no_pd['LIMIT_BAL']/10000\n",
    "ct_no_pd['LIMIT_BAL'].round()"
   ]
  },
  {
   "cell_type": "code",
   "execution_count": 80,
   "metadata": {},
   "outputs": [
    {
     "data": {
      "text/plain": [
       "<matplotlib.axes._subplots.AxesSubplot at 0x7f2eb9221550>"
      ]
     },
     "execution_count": 80,
     "metadata": {},
     "output_type": "execute_result"
    },
    {
     "data": {
      "image/png": "[encoded data removed]",
      "text/plain": [
       "<Figure size 432x288 with 1 Axes>"
      ]
     },
     "metadata": {
      "needs_background": "light"
     },
     "output_type": "display_data"
    }
   ],
   "source": [
    "ct_no_pd.plot.bar(x='LIMIT_BAL',y='count',color='red',fontsize=8,title='Credit Does Not Default Next Month Count vs Limited Balance in $10,000')"
   ]
  },
  {
   "cell_type": "code",
   "execution_count": null,
   "metadata": {},
   "outputs": [],
   "source": []
  }
 ],
 "metadata": {
  "kernelspec": {
   "display_name": "Python 3",
   "language": "python",
   "name": "python3"
  },
  "language_info": {
   "codemirror_mode": {
    "name": "ipython",
    "version": 3
   },
   "file_extension": ".py",
   "mimetype": "text/x-python",
   "name": "python",
   "nbconvert_exporter": "python",
   "pygments_lexer": "ipython3",
   "version": "3.7.3"
  }
 },
 "nbformat": 4,
 "nbformat_minor": 4
}
